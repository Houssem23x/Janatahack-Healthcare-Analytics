{
  "nbformat": 4,
  "nbformat_minor": 0,
  "metadata": {
    "colab": {
      "name": "Janatahack: Healthcare Analytics",
      "provenance": [],
      "mount_file_id": "1xvNFhuyq0DI84_UXKjOwFi0nHHGAYFbP",
      "authorship_tag": "ABX9TyP5WpxA8kznkxsDsJVrQT4K",
      "include_colab_link": true
    },
    "kernelspec": {
      "name": "python3",
      "display_name": "Python 3"
    },
    "accelerator": "TPU"
  },
  "cells": [
    {
      "cell_type": "markdown",
      "metadata": {
        "id": "view-in-github",
        "colab_type": "text"
      },
      "source": [
        "<a href=\"https://colab.research.google.com/github/Houssem23x/Janatahack-Healthcare-Analytics/blob/master/Janatahack_Healthcare_Analytics.ipynb\" target=\"_parent\"><img src=\"https://colab.research.google.com/assets/colab-badge.svg\" alt=\"Open In Colab\"/></a>"
      ]
    },
    {
      "cell_type": "markdown",
      "metadata": {
        "id": "ZPnBBCmdMMxu",
        "colab_type": "text"
      },
      "source": [
        "# **1. Prepare Problem**\n"
      ]
    },
    {
      "cell_type": "markdown",
      "metadata": {
        "id": "w-iy3159McjL",
        "colab_type": "text"
      },
      "source": [
        "# a) Load Libraries\n"
      ]
    },
    {
      "cell_type": "code",
      "metadata": {
        "id": "DC1JFzcQCBdu",
        "colab_type": "code",
        "colab": {}
      },
      "source": [
        "import numpy as np\n",
        "import pandas as pd\n",
        "import matplotlib.pyplot as plt\n",
        "import seaborn as sns \n",
        "from sklearn.model_selection import *\n",
        "from sklearn.feature_selection import *\n",
        "from sklearn.model_selection import *\n",
        "from sklearn.preprocessing import *\n",
        "from sklearn.linear_model import LogisticRegression\n",
        "from sklearn.tree import DecisionTreeClassifier\n",
        "from sklearn.neighbors import KNeighborsClassifier\n",
        "from sklearn.naive_bayes import GaussianNB\n",
        "from sklearn.svm import SVC\n",
        "\n"
      ],
      "execution_count": null,
      "outputs": []
    },
    {
      "cell_type": "markdown",
      "metadata": {
        "id": "K2UP3bk6MwMO",
        "colab_type": "text"
      },
      "source": [
        "# b) Load Datasets\n",
        "\n"
      ]
    },
    {
      "cell_type": "code",
      "metadata": {
        "id": "7dZ5rj4yCJFv",
        "colab_type": "code",
        "colab": {}
      },
      "source": [
        "train = pd.read_csv('/content/drive/My Drive/Projects/Janatahack: Healthcare Analytics/Train/Train.csv')\n",
        "test = pd.read_csv('/content/drive/My Drive/Projects/Janatahack: Healthcare Analytics/test_l0Auv8Q.csv')\n",
        "patient_profile = pd.read_csv('/content/drive/My Drive/Projects/Janatahack: Healthcare Analytics/Train/Patient_Profile.csv')\n",
        "health_camps = pd.read_csv('/content/drive/My Drive/Projects/Janatahack: Healthcare Analytics/Train/Health_Camp_Detail.csv')\n",
        "first_camp = pd.read_csv('/content/drive/My Drive/Projects/Janatahack: Healthcare Analytics/Train/First_Health_Camp_Attended.csv')\n",
        "second_cammp = pd.read_csv('/content/drive/My Drive/Projects/Janatahack: Healthcare Analytics/Train/Second_Health_Camp_Attended.csv')\n",
        "third_camp = pd.read_csv('/content/drive/My Drive/Projects/Janatahack: Healthcare Analytics/Train/Third_Health_Camp_Attended.csv')\n"
      ],
      "execution_count": null,
      "outputs": []
    },
    {
      "cell_type": "markdown",
      "metadata": {
        "id": "f0eQeVV-vHnZ",
        "colab_type": "text"
      },
      "source": [
        "# **2.Explore Datasets**\n"
      ]
    },
    {
      "cell_type": "code",
      "metadata": {
        "id": "eZEFLKIpNpaE",
        "colab_type": "code",
        "colab": {
          "base_uri": "https://localhost:8080/"
        },
        "outputId": "84501e2a-b660-4d11-943d-0b7c66f013d3"
      },
      "source": [
        "#Explore the train sataset \n",
        "train.head()"
      ],
      "execution_count": null,
      "outputs": [
        {
          "output_type": "execute_result",
          "data": {
            "text/html": [
              "<div>\n",
              "<style scoped>\n",
              "    .dataframe tbody tr th:only-of-type {\n",
              "        vertical-align: middle;\n",
              "    }\n",
              "\n",
              "    .dataframe tbody tr th {\n",
              "        vertical-align: top;\n",
              "    }\n",
              "\n",
              "    .dataframe thead th {\n",
              "        text-align: right;\n",
              "    }\n",
              "</style>\n",
              "<table border=\"1\" class=\"dataframe\">\n",
              "  <thead>\n",
              "    <tr style=\"text-align: right;\">\n",
              "      <th></th>\n",
              "      <th>Patient_ID</th>\n",
              "      <th>Health_Camp_ID</th>\n",
              "      <th>Registration_Date</th>\n",
              "      <th>Var1</th>\n",
              "      <th>Var2</th>\n",
              "      <th>Var3</th>\n",
              "      <th>Var4</th>\n",
              "      <th>Var5</th>\n",
              "    </tr>\n",
              "  </thead>\n",
              "  <tbody>\n",
              "    <tr>\n",
              "      <th>0</th>\n",
              "      <td>489652</td>\n",
              "      <td>6578</td>\n",
              "      <td>10-Sep-05</td>\n",
              "      <td>4</td>\n",
              "      <td>0</td>\n",
              "      <td>0</td>\n",
              "      <td>0</td>\n",
              "      <td>2</td>\n",
              "    </tr>\n",
              "    <tr>\n",
              "      <th>1</th>\n",
              "      <td>507246</td>\n",
              "      <td>6578</td>\n",
              "      <td>18-Aug-05</td>\n",
              "      <td>45</td>\n",
              "      <td>5</td>\n",
              "      <td>0</td>\n",
              "      <td>0</td>\n",
              "      <td>7</td>\n",
              "    </tr>\n",
              "    <tr>\n",
              "      <th>2</th>\n",
              "      <td>523729</td>\n",
              "      <td>6534</td>\n",
              "      <td>29-Apr-06</td>\n",
              "      <td>0</td>\n",
              "      <td>0</td>\n",
              "      <td>0</td>\n",
              "      <td>0</td>\n",
              "      <td>0</td>\n",
              "    </tr>\n",
              "    <tr>\n",
              "      <th>3</th>\n",
              "      <td>524931</td>\n",
              "      <td>6535</td>\n",
              "      <td>07-Feb-04</td>\n",
              "      <td>0</td>\n",
              "      <td>0</td>\n",
              "      <td>0</td>\n",
              "      <td>0</td>\n",
              "      <td>0</td>\n",
              "    </tr>\n",
              "    <tr>\n",
              "      <th>4</th>\n",
              "      <td>521364</td>\n",
              "      <td>6529</td>\n",
              "      <td>28-Feb-06</td>\n",
              "      <td>15</td>\n",
              "      <td>1</td>\n",
              "      <td>0</td>\n",
              "      <td>0</td>\n",
              "      <td>7</td>\n",
              "    </tr>\n",
              "  </tbody>\n",
              "</table>\n",
              "</div>"
            ],
            "text/plain": [
              "   Patient_ID  Health_Camp_ID Registration_Date  Var1  Var2  Var3  Var4  Var5\n",
              "0      489652            6578         10-Sep-05     4     0     0     0     2\n",
              "1      507246            6578         18-Aug-05    45     5     0     0     7\n",
              "2      523729            6534         29-Apr-06     0     0     0     0     0\n",
              "3      524931            6535         07-Feb-04     0     0     0     0     0\n",
              "4      521364            6529         28-Feb-06    15     1     0     0     7"
            ]
          },
          "metadata": {
            "tags": []
          },
          "execution_count": 215
        }
      ]
    },
    {
      "cell_type": "code",
      "metadata": {
        "id": "yTvBxH-wNyRw",
        "colab_type": "code",
        "colab": {
          "base_uri": "https://localhost:8080/"
        },
        "outputId": "bc9a0d5b-ceab-4b05-cfc6-664587f04fee"
      },
      "source": [
        "train.info()"
      ],
      "execution_count": null,
      "outputs": [
        {
          "output_type": "stream",
          "text": [
            "<class 'pandas.core.frame.DataFrame'>\n",
            "RangeIndex: 75278 entries, 0 to 75277\n",
            "Data columns (total 8 columns):\n",
            " #   Column             Non-Null Count  Dtype \n",
            "---  ------             --------------  ----- \n",
            " 0   Patient_ID         75278 non-null  int64 \n",
            " 1   Health_Camp_ID     75278 non-null  int64 \n",
            " 2   Registration_Date  74944 non-null  object\n",
            " 3   Var1               75278 non-null  int64 \n",
            " 4   Var2               75278 non-null  int64 \n",
            " 5   Var3               75278 non-null  int64 \n",
            " 6   Var4               75278 non-null  int64 \n",
            " 7   Var5               75278 non-null  int64 \n",
            "dtypes: int64(7), object(1)\n",
            "memory usage: 4.6+ MB\n"
          ],
          "name": "stdout"
        }
      ]
    },
    {
      "cell_type": "markdown",
      "metadata": {
        "id": "bNGJ_00xPRly",
        "colab_type": "text"
      },
      "source": [
        "* we have some missing values on Registration_Date \n",
        "* there are 75278 observations \n",
        "* we need to creat the target variables \n"
      ]
    },
    {
      "cell_type": "code",
      "metadata": {
        "id": "ECw3Tyx-NyHK",
        "colab_type": "code",
        "colab": {
          "base_uri": "https://localhost:8080/"
        },
        "outputId": "9e17b78f-b17d-4b74-ee20-5379b3f37aed"
      },
      "source": [
        "#explore the test dataset\n",
        "test.head()"
      ],
      "execution_count": null,
      "outputs": [
        {
          "output_type": "execute_result",
          "data": {
            "text/html": [
              "<div>\n",
              "<style scoped>\n",
              "    .dataframe tbody tr th:only-of-type {\n",
              "        vertical-align: middle;\n",
              "    }\n",
              "\n",
              "    .dataframe tbody tr th {\n",
              "        vertical-align: top;\n",
              "    }\n",
              "\n",
              "    .dataframe thead th {\n",
              "        text-align: right;\n",
              "    }\n",
              "</style>\n",
              "<table border=\"1\" class=\"dataframe\">\n",
              "  <thead>\n",
              "    <tr style=\"text-align: right;\">\n",
              "      <th></th>\n",
              "      <th>Patient_ID</th>\n",
              "      <th>Health_Camp_ID</th>\n",
              "      <th>Registration_Date</th>\n",
              "      <th>Var1</th>\n",
              "      <th>Var2</th>\n",
              "      <th>Var3</th>\n",
              "      <th>Var4</th>\n",
              "      <th>Var5</th>\n",
              "    </tr>\n",
              "  </thead>\n",
              "  <tbody>\n",
              "    <tr>\n",
              "      <th>0</th>\n",
              "      <td>505701</td>\n",
              "      <td>6548</td>\n",
              "      <td>21-May-06</td>\n",
              "      <td>1</td>\n",
              "      <td>0</td>\n",
              "      <td>0</td>\n",
              "      <td>0</td>\n",
              "      <td>2</td>\n",
              "    </tr>\n",
              "    <tr>\n",
              "      <th>1</th>\n",
              "      <td>500633</td>\n",
              "      <td>6584</td>\n",
              "      <td>02-Jun-06</td>\n",
              "      <td>0</td>\n",
              "      <td>0</td>\n",
              "      <td>0</td>\n",
              "      <td>0</td>\n",
              "      <td>0</td>\n",
              "    </tr>\n",
              "    <tr>\n",
              "      <th>2</th>\n",
              "      <td>506945</td>\n",
              "      <td>6582</td>\n",
              "      <td>10-Aug-06</td>\n",
              "      <td>0</td>\n",
              "      <td>0</td>\n",
              "      <td>0</td>\n",
              "      <td>0</td>\n",
              "      <td>0</td>\n",
              "    </tr>\n",
              "    <tr>\n",
              "      <th>3</th>\n",
              "      <td>497447</td>\n",
              "      <td>6551</td>\n",
              "      <td>27-Aug-06</td>\n",
              "      <td>0</td>\n",
              "      <td>0</td>\n",
              "      <td>0</td>\n",
              "      <td>0</td>\n",
              "      <td>0</td>\n",
              "    </tr>\n",
              "    <tr>\n",
              "      <th>4</th>\n",
              "      <td>496446</td>\n",
              "      <td>6533</td>\n",
              "      <td>19-Sep-06</td>\n",
              "      <td>0</td>\n",
              "      <td>0</td>\n",
              "      <td>0</td>\n",
              "      <td>0</td>\n",
              "      <td>0</td>\n",
              "    </tr>\n",
              "  </tbody>\n",
              "</table>\n",
              "</div>"
            ],
            "text/plain": [
              "   Patient_ID  Health_Camp_ID Registration_Date  Var1  Var2  Var3  Var4  Var5\n",
              "0      505701            6548         21-May-06     1     0     0     0     2\n",
              "1      500633            6584         02-Jun-06     0     0     0     0     0\n",
              "2      506945            6582         10-Aug-06     0     0     0     0     0\n",
              "3      497447            6551         27-Aug-06     0     0     0     0     0\n",
              "4      496446            6533         19-Sep-06     0     0     0     0     0"
            ]
          },
          "metadata": {
            "tags": []
          },
          "execution_count": 217
        }
      ]
    },
    {
      "cell_type": "code",
      "metadata": {
        "id": "TnGXUIoCNx-U",
        "colab_type": "code",
        "colab": {
          "base_uri": "https://localhost:8080/"
        },
        "outputId": "0aece41e-e450-413a-952b-cde7edbc759d"
      },
      "source": [
        "test.info()"
      ],
      "execution_count": null,
      "outputs": [
        {
          "output_type": "stream",
          "text": [
            "<class 'pandas.core.frame.DataFrame'>\n",
            "RangeIndex: 35249 entries, 0 to 35248\n",
            "Data columns (total 8 columns):\n",
            " #   Column             Non-Null Count  Dtype \n",
            "---  ------             --------------  ----- \n",
            " 0   Patient_ID         35249 non-null  int64 \n",
            " 1   Health_Camp_ID     35249 non-null  int64 \n",
            " 2   Registration_Date  35249 non-null  object\n",
            " 3   Var1               35249 non-null  int64 \n",
            " 4   Var2               35249 non-null  int64 \n",
            " 5   Var3               35249 non-null  int64 \n",
            " 6   Var4               35249 non-null  int64 \n",
            " 7   Var5               35249 non-null  int64 \n",
            "dtypes: int64(7), object(1)\n",
            "memory usage: 2.2+ MB\n"
          ],
          "name": "stdout"
        }
      ]
    },
    {
      "cell_type": "markdown",
      "metadata": {
        "id": "OFWrVR2bQFsr",
        "colab_type": "text"
      },
      "source": [
        "* For now there is no missing values on the test dataset "
      ]
    },
    {
      "cell_type": "code",
      "metadata": {
        "id": "_kjL13LXNx1d",
        "colab_type": "code",
        "colab": {
          "base_uri": "https://localhost:8080/"
        },
        "outputId": "5565c766-b4f0-420f-ee13-5ba1efcc13ad"
      },
      "source": [
        "#The patient profile dataset\n",
        "patient_profile.head(10)"
      ],
      "execution_count": null,
      "outputs": [
        {
          "output_type": "execute_result",
          "data": {
            "text/html": [
              "<div>\n",
              "<style scoped>\n",
              "    .dataframe tbody tr th:only-of-type {\n",
              "        vertical-align: middle;\n",
              "    }\n",
              "\n",
              "    .dataframe tbody tr th {\n",
              "        vertical-align: top;\n",
              "    }\n",
              "\n",
              "    .dataframe thead th {\n",
              "        text-align: right;\n",
              "    }\n",
              "</style>\n",
              "<table border=\"1\" class=\"dataframe\">\n",
              "  <thead>\n",
              "    <tr style=\"text-align: right;\">\n",
              "      <th></th>\n",
              "      <th>Patient_ID</th>\n",
              "      <th>Online_Follower</th>\n",
              "      <th>LinkedIn_Shared</th>\n",
              "      <th>Twitter_Shared</th>\n",
              "      <th>Facebook_Shared</th>\n",
              "      <th>Income</th>\n",
              "      <th>Education_Score</th>\n",
              "      <th>Age</th>\n",
              "      <th>First_Interaction</th>\n",
              "      <th>City_Type</th>\n",
              "      <th>Employer_Category</th>\n",
              "    </tr>\n",
              "  </thead>\n",
              "  <tbody>\n",
              "    <tr>\n",
              "      <th>0</th>\n",
              "      <td>516956</td>\n",
              "      <td>0</td>\n",
              "      <td>0</td>\n",
              "      <td>0</td>\n",
              "      <td>0</td>\n",
              "      <td>1</td>\n",
              "      <td>90</td>\n",
              "      <td>39</td>\n",
              "      <td>18-Jun-03</td>\n",
              "      <td>NaN</td>\n",
              "      <td>Software Industry</td>\n",
              "    </tr>\n",
              "    <tr>\n",
              "      <th>1</th>\n",
              "      <td>507733</td>\n",
              "      <td>0</td>\n",
              "      <td>0</td>\n",
              "      <td>0</td>\n",
              "      <td>0</td>\n",
              "      <td>1</td>\n",
              "      <td>None</td>\n",
              "      <td>40</td>\n",
              "      <td>20-Jul-03</td>\n",
              "      <td>H</td>\n",
              "      <td>Software Industry</td>\n",
              "    </tr>\n",
              "    <tr>\n",
              "      <th>2</th>\n",
              "      <td>508307</td>\n",
              "      <td>0</td>\n",
              "      <td>0</td>\n",
              "      <td>0</td>\n",
              "      <td>0</td>\n",
              "      <td>3</td>\n",
              "      <td>87</td>\n",
              "      <td>46</td>\n",
              "      <td>02-Nov-02</td>\n",
              "      <td>D</td>\n",
              "      <td>BFSI</td>\n",
              "    </tr>\n",
              "    <tr>\n",
              "      <th>3</th>\n",
              "      <td>512612</td>\n",
              "      <td>0</td>\n",
              "      <td>0</td>\n",
              "      <td>0</td>\n",
              "      <td>0</td>\n",
              "      <td>1</td>\n",
              "      <td>75</td>\n",
              "      <td>47</td>\n",
              "      <td>02-Nov-02</td>\n",
              "      <td>D</td>\n",
              "      <td>Education</td>\n",
              "    </tr>\n",
              "    <tr>\n",
              "      <th>4</th>\n",
              "      <td>521075</td>\n",
              "      <td>0</td>\n",
              "      <td>0</td>\n",
              "      <td>0</td>\n",
              "      <td>0</td>\n",
              "      <td>3</td>\n",
              "      <td>None</td>\n",
              "      <td>80</td>\n",
              "      <td>24-Nov-02</td>\n",
              "      <td>H</td>\n",
              "      <td>Others</td>\n",
              "    </tr>\n",
              "    <tr>\n",
              "      <th>5</th>\n",
              "      <td>502103</td>\n",
              "      <td>0</td>\n",
              "      <td>0</td>\n",
              "      <td>0</td>\n",
              "      <td>0</td>\n",
              "      <td>None</td>\n",
              "      <td>None</td>\n",
              "      <td>None</td>\n",
              "      <td>06-Apr-03</td>\n",
              "      <td>NaN</td>\n",
              "      <td>NaN</td>\n",
              "    </tr>\n",
              "    <tr>\n",
              "      <th>6</th>\n",
              "      <td>528501</td>\n",
              "      <td>0</td>\n",
              "      <td>0</td>\n",
              "      <td>0</td>\n",
              "      <td>0</td>\n",
              "      <td>None</td>\n",
              "      <td>None</td>\n",
              "      <td>None</td>\n",
              "      <td>26-Apr-03</td>\n",
              "      <td>NaN</td>\n",
              "      <td>NaN</td>\n",
              "    </tr>\n",
              "    <tr>\n",
              "      <th>7</th>\n",
              "      <td>519202</td>\n",
              "      <td>0</td>\n",
              "      <td>0</td>\n",
              "      <td>0</td>\n",
              "      <td>0</td>\n",
              "      <td>None</td>\n",
              "      <td>None</td>\n",
              "      <td>None</td>\n",
              "      <td>05-Apr-03</td>\n",
              "      <td>NaN</td>\n",
              "      <td>NaN</td>\n",
              "    </tr>\n",
              "    <tr>\n",
              "      <th>8</th>\n",
              "      <td>521359</td>\n",
              "      <td>0</td>\n",
              "      <td>0</td>\n",
              "      <td>0</td>\n",
              "      <td>0</td>\n",
              "      <td>None</td>\n",
              "      <td>None</td>\n",
              "      <td>None</td>\n",
              "      <td>10-Apr-03</td>\n",
              "      <td>F</td>\n",
              "      <td>NaN</td>\n",
              "    </tr>\n",
              "    <tr>\n",
              "      <th>9</th>\n",
              "      <td>487977</td>\n",
              "      <td>0</td>\n",
              "      <td>1</td>\n",
              "      <td>1</td>\n",
              "      <td>0</td>\n",
              "      <td>4</td>\n",
              "      <td>72</td>\n",
              "      <td>58</td>\n",
              "      <td>08-Jun-03</td>\n",
              "      <td>G</td>\n",
              "      <td>Technology</td>\n",
              "    </tr>\n",
              "  </tbody>\n",
              "</table>\n",
              "</div>"
            ],
            "text/plain": [
              "   Patient_ID  Online_Follower  ...  City_Type  Employer_Category\n",
              "0      516956                0  ...        NaN  Software Industry\n",
              "1      507733                0  ...          H  Software Industry\n",
              "2      508307                0  ...          D               BFSI\n",
              "3      512612                0  ...          D          Education\n",
              "4      521075                0  ...          H             Others\n",
              "5      502103                0  ...        NaN                NaN\n",
              "6      528501                0  ...        NaN                NaN\n",
              "7      519202                0  ...        NaN                NaN\n",
              "8      521359                0  ...          F                NaN\n",
              "9      487977                0  ...          G         Technology\n",
              "\n",
              "[10 rows x 11 columns]"
            ]
          },
          "metadata": {
            "tags": []
          },
          "execution_count": 219
        }
      ]
    },
    {
      "cell_type": "code",
      "metadata": {
        "id": "5_tPt0dNNxsx",
        "colab_type": "code",
        "colab": {
          "base_uri": "https://localhost:8080/"
        },
        "outputId": "fe1fc158-8ab6-49fd-f59e-4f59b1e26e38"
      },
      "source": [
        "patient_profile.info()"
      ],
      "execution_count": null,
      "outputs": [
        {
          "output_type": "stream",
          "text": [
            "<class 'pandas.core.frame.DataFrame'>\n",
            "RangeIndex: 37633 entries, 0 to 37632\n",
            "Data columns (total 11 columns):\n",
            " #   Column             Non-Null Count  Dtype \n",
            "---  ------             --------------  ----- \n",
            " 0   Patient_ID         37633 non-null  int64 \n",
            " 1   Online_Follower    37633 non-null  int64 \n",
            " 2   LinkedIn_Shared    37633 non-null  int64 \n",
            " 3   Twitter_Shared     37633 non-null  int64 \n",
            " 4   Facebook_Shared    37633 non-null  int64 \n",
            " 5   Income             37633 non-null  object\n",
            " 6   Education_Score    37633 non-null  object\n",
            " 7   Age                37633 non-null  object\n",
            " 8   First_Interaction  37633 non-null  object\n",
            " 9   City_Type          14249 non-null  object\n",
            " 10  Employer_Category  2840 non-null   object\n",
            "dtypes: int64(5), object(6)\n",
            "memory usage: 3.2+ MB\n"
          ],
          "name": "stdout"
        }
      ]
    },
    {
      "cell_type": "markdown",
      "metadata": {
        "id": "zpsH2FzGQqoi",
        "colab_type": "text"
      },
      "source": [
        "* There are 37633 patients\n",
        "* the data type of Income,Age and Education_score should be int64 instead of object\n",
        "\n"
      ]
    },
    {
      "cell_type": "code",
      "metadata": {
        "id": "IQQperdqNxko",
        "colab_type": "code",
        "colab": {
          "base_uri": "https://localhost:8080/"
        },
        "outputId": "2be0efd5-ae23-4df0-f033-dec4a621705c"
      },
      "source": [
        "patient_profile['Age'].unique()"
      ],
      "execution_count": null,
      "outputs": [
        {
          "output_type": "execute_result",
          "data": {
            "text/plain": [
              "array(['39', '40', '46', '47', '80', 'None', '58', '48', '42', '52', '56',\n",
              "       '49', '38', '45', '51', '50', '43', '53', '41', '44', '66', '37',\n",
              "       '70', '73', '72', '55', '71', '63', '54', '61', '36', '59', '34',\n",
              "       '62', '64', '60', '35', '57', '31', '74', '69', '33', '65', '77',\n",
              "       '75', '67', '76', '68', '32', '78', '30'], dtype=object)"
            ]
          },
          "metadata": {
            "tags": []
          },
          "execution_count": 221
        }
      ]
    },
    {
      "cell_type": "code",
      "metadata": {
        "id": "phrjeXvaNxhW",
        "colab_type": "code",
        "colab": {
          "base_uri": "https://localhost:8080/"
        },
        "outputId": "1b3da428-61c2-45e1-da69-4414d1b83c91"
      },
      "source": [
        "patient_profile[patient_profile['Age']=='None']['Age'].count()"
      ],
      "execution_count": null,
      "outputs": [
        {
          "output_type": "execute_result",
          "data": {
            "text/plain": [
              "32618"
            ]
          },
          "metadata": {
            "tags": []
          },
          "execution_count": 222
        }
      ]
    },
    {
      "cell_type": "code",
      "metadata": {
        "id": "7_0s7n3tNxYe",
        "colab_type": "code",
        "colab": {
          "base_uri": "https://localhost:8080/"
        },
        "outputId": "e84fa27e-7666-45b0-ac7b-90c5e6bb549d"
      },
      "source": [
        "patient_profile['Income'].unique()"
      ],
      "execution_count": null,
      "outputs": [
        {
          "output_type": "execute_result",
          "data": {
            "text/plain": [
              "array(['1', '3', 'None', '4', '0', '2', '6', '5'], dtype=object)"
            ]
          },
          "metadata": {
            "tags": []
          },
          "execution_count": 223
        }
      ]
    },
    {
      "cell_type": "code",
      "metadata": {
        "id": "DUd-LHiENxO4",
        "colab_type": "code",
        "colab": {
          "base_uri": "https://localhost:8080/"
        },
        "outputId": "562e5a2d-02af-4094-e79a-766abb2aff1b"
      },
      "source": [
        "patient_profile[patient_profile['Income']=='None']['Income'].count()"
      ],
      "execution_count": null,
      "outputs": [
        {
          "output_type": "execute_result",
          "data": {
            "text/plain": [
              "33271"
            ]
          },
          "metadata": {
            "tags": []
          },
          "execution_count": 224
        }
      ]
    },
    {
      "cell_type": "code",
      "metadata": {
        "id": "mb7FygtaNxF9",
        "colab_type": "code",
        "colab": {
          "base_uri": "https://localhost:8080/"
        },
        "outputId": "ee6e1cc1-abe2-4c4c-fdce-5604f7e6a926"
      },
      "source": [
        "patient_profile[patient_profile['Education_Score']=='None']['Education_Score'].count()"
      ],
      "execution_count": null,
      "outputs": [
        {
          "output_type": "execute_result",
          "data": {
            "text/plain": [
              "36249"
            ]
          },
          "metadata": {
            "tags": []
          },
          "execution_count": 225
        }
      ]
    },
    {
      "cell_type": "markdown",
      "metadata": {
        "id": "y9RtRBTOS_zj",
        "colab_type": "text"
      },
      "source": [
        "* There is 32618 missing values on Age, 33271 on Income and 36249 on Education_Score \n",
        "* We have many missing values on City_type and Emploter_Category too\n",
        "* So, they will not help us in making prediction "
      ]
    },
    {
      "cell_type": "code",
      "metadata": {
        "id": "gxMyRV-NNw7Z",
        "colab_type": "code",
        "colab": {
          "base_uri": "https://localhost:8080/"
        },
        "outputId": "3f276344-a636-404c-d780-2991c7e331dd"
      },
      "source": [
        "#The health camp details \n",
        "health_camps.head(10)"
      ],
      "execution_count": null,
      "outputs": [
        {
          "output_type": "execute_result",
          "data": {
            "text/html": [
              "<div>\n",
              "<style scoped>\n",
              "    .dataframe tbody tr th:only-of-type {\n",
              "        vertical-align: middle;\n",
              "    }\n",
              "\n",
              "    .dataframe tbody tr th {\n",
              "        vertical-align: top;\n",
              "    }\n",
              "\n",
              "    .dataframe thead th {\n",
              "        text-align: right;\n",
              "    }\n",
              "</style>\n",
              "<table border=\"1\" class=\"dataframe\">\n",
              "  <thead>\n",
              "    <tr style=\"text-align: right;\">\n",
              "      <th></th>\n",
              "      <th>Health_Camp_ID</th>\n",
              "      <th>Camp_Start_Date</th>\n",
              "      <th>Camp_End_Date</th>\n",
              "      <th>Category1</th>\n",
              "      <th>Category2</th>\n",
              "      <th>Category3</th>\n",
              "    </tr>\n",
              "  </thead>\n",
              "  <tbody>\n",
              "    <tr>\n",
              "      <th>0</th>\n",
              "      <td>6560</td>\n",
              "      <td>16-Aug-03</td>\n",
              "      <td>20-Aug-03</td>\n",
              "      <td>First</td>\n",
              "      <td>B</td>\n",
              "      <td>2</td>\n",
              "    </tr>\n",
              "    <tr>\n",
              "      <th>1</th>\n",
              "      <td>6530</td>\n",
              "      <td>16-Aug-03</td>\n",
              "      <td>28-Oct-03</td>\n",
              "      <td>First</td>\n",
              "      <td>C</td>\n",
              "      <td>2</td>\n",
              "    </tr>\n",
              "    <tr>\n",
              "      <th>2</th>\n",
              "      <td>6544</td>\n",
              "      <td>03-Nov-03</td>\n",
              "      <td>15-Nov-03</td>\n",
              "      <td>First</td>\n",
              "      <td>F</td>\n",
              "      <td>1</td>\n",
              "    </tr>\n",
              "    <tr>\n",
              "      <th>3</th>\n",
              "      <td>6585</td>\n",
              "      <td>22-Nov-03</td>\n",
              "      <td>05-Dec-03</td>\n",
              "      <td>First</td>\n",
              "      <td>E</td>\n",
              "      <td>2</td>\n",
              "    </tr>\n",
              "    <tr>\n",
              "      <th>4</th>\n",
              "      <td>6561</td>\n",
              "      <td>30-Nov-03</td>\n",
              "      <td>18-Dec-03</td>\n",
              "      <td>First</td>\n",
              "      <td>E</td>\n",
              "      <td>1</td>\n",
              "    </tr>\n",
              "    <tr>\n",
              "      <th>5</th>\n",
              "      <td>6581</td>\n",
              "      <td>07-Dec-03</td>\n",
              "      <td>13-Jun-04</td>\n",
              "      <td>First</td>\n",
              "      <td>F</td>\n",
              "      <td>2</td>\n",
              "    </tr>\n",
              "    <tr>\n",
              "      <th>6</th>\n",
              "      <td>6564</td>\n",
              "      <td>17-Dec-03</td>\n",
              "      <td>11-Jun-04</td>\n",
              "      <td>First</td>\n",
              "      <td>C</td>\n",
              "      <td>2</td>\n",
              "    </tr>\n",
              "    <tr>\n",
              "      <th>7</th>\n",
              "      <td>6557</td>\n",
              "      <td>04-Jan-04</td>\n",
              "      <td>09-Jan-04</td>\n",
              "      <td>First</td>\n",
              "      <td>C</td>\n",
              "      <td>2</td>\n",
              "    </tr>\n",
              "    <tr>\n",
              "      <th>8</th>\n",
              "      <td>6538</td>\n",
              "      <td>09-Jan-04</td>\n",
              "      <td>04-Feb-05</td>\n",
              "      <td>First</td>\n",
              "      <td>F</td>\n",
              "      <td>2</td>\n",
              "    </tr>\n",
              "    <tr>\n",
              "      <th>9</th>\n",
              "      <td>6546</td>\n",
              "      <td>09-Jan-04</td>\n",
              "      <td>17-Jan-04</td>\n",
              "      <td>First</td>\n",
              "      <td>E</td>\n",
              "      <td>2</td>\n",
              "    </tr>\n",
              "  </tbody>\n",
              "</table>\n",
              "</div>"
            ],
            "text/plain": [
              "   Health_Camp_ID Camp_Start_Date Camp_End_Date Category1 Category2  Category3\n",
              "0            6560       16-Aug-03     20-Aug-03     First         B          2\n",
              "1            6530       16-Aug-03     28-Oct-03     First         C          2\n",
              "2            6544       03-Nov-03     15-Nov-03     First         F          1\n",
              "3            6585       22-Nov-03     05-Dec-03     First         E          2\n",
              "4            6561       30-Nov-03     18-Dec-03     First         E          1\n",
              "5            6581       07-Dec-03     13-Jun-04     First         F          2\n",
              "6            6564       17-Dec-03     11-Jun-04     First         C          2\n",
              "7            6557       04-Jan-04     09-Jan-04     First         C          2\n",
              "8            6538       09-Jan-04     04-Feb-05     First         F          2\n",
              "9            6546       09-Jan-04     17-Jan-04     First         E          2"
            ]
          },
          "metadata": {
            "tags": []
          },
          "execution_count": 226
        }
      ]
    },
    {
      "cell_type": "code",
      "metadata": {
        "id": "MKYFILXdNw0u",
        "colab_type": "code",
        "colab": {
          "base_uri": "https://localhost:8080/"
        },
        "outputId": "6977a6d0-5252-404d-f906-82c059358dd9"
      },
      "source": [
        "health_camps.info()"
      ],
      "execution_count": null,
      "outputs": [
        {
          "output_type": "stream",
          "text": [
            "<class 'pandas.core.frame.DataFrame'>\n",
            "RangeIndex: 65 entries, 0 to 64\n",
            "Data columns (total 6 columns):\n",
            " #   Column           Non-Null Count  Dtype \n",
            "---  ------           --------------  ----- \n",
            " 0   Health_Camp_ID   65 non-null     int64 \n",
            " 1   Camp_Start_Date  65 non-null     object\n",
            " 2   Camp_End_Date    65 non-null     object\n",
            " 3   Category1        65 non-null     object\n",
            " 4   Category2        65 non-null     object\n",
            " 5   Category3        65 non-null     int64 \n",
            "dtypes: int64(2), object(4)\n",
            "memory usage: 3.2+ KB\n"
          ],
          "name": "stdout"
        }
      ]
    },
    {
      "cell_type": "code",
      "metadata": {
        "id": "oaWgVC0KNwpV",
        "colab_type": "code",
        "colab": {
          "base_uri": "https://localhost:8080/"
        },
        "outputId": "3f6068ac-6b6d-47ae-fd29-4e222dea41c5"
      },
      "source": [
        "#The first camp\n",
        "first_camp.head(10)"
      ],
      "execution_count": null,
      "outputs": [
        {
          "output_type": "execute_result",
          "data": {
            "text/html": [
              "<div>\n",
              "<style scoped>\n",
              "    .dataframe tbody tr th:only-of-type {\n",
              "        vertical-align: middle;\n",
              "    }\n",
              "\n",
              "    .dataframe tbody tr th {\n",
              "        vertical-align: top;\n",
              "    }\n",
              "\n",
              "    .dataframe thead th {\n",
              "        text-align: right;\n",
              "    }\n",
              "</style>\n",
              "<table border=\"1\" class=\"dataframe\">\n",
              "  <thead>\n",
              "    <tr style=\"text-align: right;\">\n",
              "      <th></th>\n",
              "      <th>Patient_ID</th>\n",
              "      <th>Health_Camp_ID</th>\n",
              "      <th>Donation</th>\n",
              "      <th>Health_Score</th>\n",
              "      <th>Unnamed: 4</th>\n",
              "    </tr>\n",
              "  </thead>\n",
              "  <tbody>\n",
              "    <tr>\n",
              "      <th>0</th>\n",
              "      <td>506181</td>\n",
              "      <td>6560</td>\n",
              "      <td>40</td>\n",
              "      <td>0.439024</td>\n",
              "      <td>NaN</td>\n",
              "    </tr>\n",
              "    <tr>\n",
              "      <th>1</th>\n",
              "      <td>494977</td>\n",
              "      <td>6560</td>\n",
              "      <td>20</td>\n",
              "      <td>0.097561</td>\n",
              "      <td>NaN</td>\n",
              "    </tr>\n",
              "    <tr>\n",
              "      <th>2</th>\n",
              "      <td>518680</td>\n",
              "      <td>6560</td>\n",
              "      <td>10</td>\n",
              "      <td>0.048780</td>\n",
              "      <td>NaN</td>\n",
              "    </tr>\n",
              "    <tr>\n",
              "      <th>3</th>\n",
              "      <td>509916</td>\n",
              "      <td>6560</td>\n",
              "      <td>30</td>\n",
              "      <td>0.634146</td>\n",
              "      <td>NaN</td>\n",
              "    </tr>\n",
              "    <tr>\n",
              "      <th>4</th>\n",
              "      <td>488006</td>\n",
              "      <td>6560</td>\n",
              "      <td>20</td>\n",
              "      <td>0.024390</td>\n",
              "      <td>NaN</td>\n",
              "    </tr>\n",
              "    <tr>\n",
              "      <th>5</th>\n",
              "      <td>492080</td>\n",
              "      <td>6560</td>\n",
              "      <td>40</td>\n",
              "      <td>0.658537</td>\n",
              "      <td>NaN</td>\n",
              "    </tr>\n",
              "    <tr>\n",
              "      <th>6</th>\n",
              "      <td>521555</td>\n",
              "      <td>6560</td>\n",
              "      <td>30</td>\n",
              "      <td>0.536585</td>\n",
              "      <td>NaN</td>\n",
              "    </tr>\n",
              "    <tr>\n",
              "      <th>7</th>\n",
              "      <td>493258</td>\n",
              "      <td>6560</td>\n",
              "      <td>30</td>\n",
              "      <td>0.121951</td>\n",
              "      <td>NaN</td>\n",
              "    </tr>\n",
              "    <tr>\n",
              "      <th>8</th>\n",
              "      <td>515459</td>\n",
              "      <td>6560</td>\n",
              "      <td>20</td>\n",
              "      <td>0.463415</td>\n",
              "      <td>NaN</td>\n",
              "    </tr>\n",
              "    <tr>\n",
              "      <th>9</th>\n",
              "      <td>504261</td>\n",
              "      <td>6560</td>\n",
              "      <td>30</td>\n",
              "      <td>0.878049</td>\n",
              "      <td>NaN</td>\n",
              "    </tr>\n",
              "  </tbody>\n",
              "</table>\n",
              "</div>"
            ],
            "text/plain": [
              "   Patient_ID  Health_Camp_ID  Donation  Health_Score  Unnamed: 4\n",
              "0      506181            6560        40      0.439024         NaN\n",
              "1      494977            6560        20      0.097561         NaN\n",
              "2      518680            6560        10      0.048780         NaN\n",
              "3      509916            6560        30      0.634146         NaN\n",
              "4      488006            6560        20      0.024390         NaN\n",
              "5      492080            6560        40      0.658537         NaN\n",
              "6      521555            6560        30      0.536585         NaN\n",
              "7      493258            6560        30      0.121951         NaN\n",
              "8      515459            6560        20      0.463415         NaN\n",
              "9      504261            6560        30      0.878049         NaN"
            ]
          },
          "metadata": {
            "tags": []
          },
          "execution_count": 228
        }
      ]
    },
    {
      "cell_type": "code",
      "metadata": {
        "id": "tqywFi7VNwhp",
        "colab_type": "code",
        "colab": {
          "base_uri": "https://localhost:8080/"
        },
        "outputId": "835fb288-6d3e-4691-dc7d-abe9815ad744"
      },
      "source": [
        "first_camp.info()"
      ],
      "execution_count": null,
      "outputs": [
        {
          "output_type": "stream",
          "text": [
            "<class 'pandas.core.frame.DataFrame'>\n",
            "RangeIndex: 6218 entries, 0 to 6217\n",
            "Data columns (total 5 columns):\n",
            " #   Column          Non-Null Count  Dtype  \n",
            "---  ------          --------------  -----  \n",
            " 0   Patient_ID      6218 non-null   int64  \n",
            " 1   Health_Camp_ID  6218 non-null   int64  \n",
            " 2   Donation        6218 non-null   int64  \n",
            " 3   Health_Score    6218 non-null   float64\n",
            " 4   Unnamed: 4      0 non-null      float64\n",
            "dtypes: float64(2), int64(3)\n",
            "memory usage: 243.0 KB\n"
          ],
          "name": "stdout"
        }
      ]
    },
    {
      "cell_type": "code",
      "metadata": {
        "id": "wpjUjRpaNwVk",
        "colab_type": "code",
        "colab": {
          "base_uri": "https://localhost:8080/"
        },
        "outputId": "9940e5ff-a799-4048-95ef-231e7d0ab65a"
      },
      "source": [
        "#The second camp\n",
        "second_cammp.head(10)"
      ],
      "execution_count": null,
      "outputs": [
        {
          "output_type": "execute_result",
          "data": {
            "text/html": [
              "<div>\n",
              "<style scoped>\n",
              "    .dataframe tbody tr th:only-of-type {\n",
              "        vertical-align: middle;\n",
              "    }\n",
              "\n",
              "    .dataframe tbody tr th {\n",
              "        vertical-align: top;\n",
              "    }\n",
              "\n",
              "    .dataframe thead th {\n",
              "        text-align: right;\n",
              "    }\n",
              "</style>\n",
              "<table border=\"1\" class=\"dataframe\">\n",
              "  <thead>\n",
              "    <tr style=\"text-align: right;\">\n",
              "      <th></th>\n",
              "      <th>Patient_ID</th>\n",
              "      <th>Health_Camp_ID</th>\n",
              "      <th>Health Score</th>\n",
              "    </tr>\n",
              "  </thead>\n",
              "  <tbody>\n",
              "    <tr>\n",
              "      <th>0</th>\n",
              "      <td>526631</td>\n",
              "      <td>6536</td>\n",
              "      <td>0.875136</td>\n",
              "    </tr>\n",
              "    <tr>\n",
              "      <th>1</th>\n",
              "      <td>509122</td>\n",
              "      <td>6536</td>\n",
              "      <td>0.755700</td>\n",
              "    </tr>\n",
              "    <tr>\n",
              "      <th>2</th>\n",
              "      <td>498864</td>\n",
              "      <td>6536</td>\n",
              "      <td>0.673181</td>\n",
              "    </tr>\n",
              "    <tr>\n",
              "      <th>3</th>\n",
              "      <td>515398</td>\n",
              "      <td>6536</td>\n",
              "      <td>0.722041</td>\n",
              "    </tr>\n",
              "    <tr>\n",
              "      <th>4</th>\n",
              "      <td>504624</td>\n",
              "      <td>6536</td>\n",
              "      <td>0.464712</td>\n",
              "    </tr>\n",
              "    <tr>\n",
              "      <th>5</th>\n",
              "      <td>486444</td>\n",
              "      <td>6536</td>\n",
              "      <td>0.587405</td>\n",
              "    </tr>\n",
              "    <tr>\n",
              "      <th>6</th>\n",
              "      <td>513612</td>\n",
              "      <td>6536</td>\n",
              "      <td>0.722041</td>\n",
              "    </tr>\n",
              "    <tr>\n",
              "      <th>7</th>\n",
              "      <td>493571</td>\n",
              "      <td>6536</td>\n",
              "      <td>0.825190</td>\n",
              "    </tr>\n",
              "    <tr>\n",
              "      <th>8</th>\n",
              "      <td>494559</td>\n",
              "      <td>6536</td>\n",
              "      <td>0.963084</td>\n",
              "    </tr>\n",
              "    <tr>\n",
              "      <th>9</th>\n",
              "      <td>490128</td>\n",
              "      <td>6536</td>\n",
              "      <td>0.755700</td>\n",
              "    </tr>\n",
              "  </tbody>\n",
              "</table>\n",
              "</div>"
            ],
            "text/plain": [
              "   Patient_ID  Health_Camp_ID  Health Score\n",
              "0      526631            6536      0.875136\n",
              "1      509122            6536      0.755700\n",
              "2      498864            6536      0.673181\n",
              "3      515398            6536      0.722041\n",
              "4      504624            6536      0.464712\n",
              "5      486444            6536      0.587405\n",
              "6      513612            6536      0.722041\n",
              "7      493571            6536      0.825190\n",
              "8      494559            6536      0.963084\n",
              "9      490128            6536      0.755700"
            ]
          },
          "metadata": {
            "tags": []
          },
          "execution_count": 230
        }
      ]
    },
    {
      "cell_type": "code",
      "metadata": {
        "id": "jZkzPFdENwLc",
        "colab_type": "code",
        "colab": {
          "base_uri": "https://localhost:8080/"
        },
        "outputId": "9771eb48-c688-4b1a-d5e2-8adacdb80c05"
      },
      "source": [
        "second_cammp.info()"
      ],
      "execution_count": null,
      "outputs": [
        {
          "output_type": "stream",
          "text": [
            "<class 'pandas.core.frame.DataFrame'>\n",
            "RangeIndex: 7819 entries, 0 to 7818\n",
            "Data columns (total 3 columns):\n",
            " #   Column          Non-Null Count  Dtype  \n",
            "---  ------          --------------  -----  \n",
            " 0   Patient_ID      7819 non-null   int64  \n",
            " 1   Health_Camp_ID  7819 non-null   int64  \n",
            " 2   Health Score    7819 non-null   float64\n",
            "dtypes: float64(1), int64(2)\n",
            "memory usage: 183.4 KB\n"
          ],
          "name": "stdout"
        }
      ]
    },
    {
      "cell_type": "code",
      "metadata": {
        "id": "1r1sVWsNNwAx",
        "colab_type": "code",
        "colab": {
          "base_uri": "https://localhost:8080/"
        },
        "outputId": "0206080b-a419-4565-e6e9-3a6f26749ccf"
      },
      "source": [
        "#The third camp\n",
        "third_camp.head(10)"
      ],
      "execution_count": null,
      "outputs": [
        {
          "output_type": "execute_result",
          "data": {
            "text/html": [
              "<div>\n",
              "<style scoped>\n",
              "    .dataframe tbody tr th:only-of-type {\n",
              "        vertical-align: middle;\n",
              "    }\n",
              "\n",
              "    .dataframe tbody tr th {\n",
              "        vertical-align: top;\n",
              "    }\n",
              "\n",
              "    .dataframe thead th {\n",
              "        text-align: right;\n",
              "    }\n",
              "</style>\n",
              "<table border=\"1\" class=\"dataframe\">\n",
              "  <thead>\n",
              "    <tr style=\"text-align: right;\">\n",
              "      <th></th>\n",
              "      <th>Patient_ID</th>\n",
              "      <th>Health_Camp_ID</th>\n",
              "      <th>Number_of_stall_visited</th>\n",
              "      <th>Last_Stall_Visited_Number</th>\n",
              "    </tr>\n",
              "  </thead>\n",
              "  <tbody>\n",
              "    <tr>\n",
              "      <th>0</th>\n",
              "      <td>517875</td>\n",
              "      <td>6527</td>\n",
              "      <td>3</td>\n",
              "      <td>1</td>\n",
              "    </tr>\n",
              "    <tr>\n",
              "      <th>1</th>\n",
              "      <td>504692</td>\n",
              "      <td>6578</td>\n",
              "      <td>1</td>\n",
              "      <td>1</td>\n",
              "    </tr>\n",
              "    <tr>\n",
              "      <th>2</th>\n",
              "      <td>504692</td>\n",
              "      <td>6527</td>\n",
              "      <td>3</td>\n",
              "      <td>1</td>\n",
              "    </tr>\n",
              "    <tr>\n",
              "      <th>3</th>\n",
              "      <td>493167</td>\n",
              "      <td>6527</td>\n",
              "      <td>4</td>\n",
              "      <td>4</td>\n",
              "    </tr>\n",
              "    <tr>\n",
              "      <th>4</th>\n",
              "      <td>510954</td>\n",
              "      <td>6528</td>\n",
              "      <td>2</td>\n",
              "      <td>2</td>\n",
              "    </tr>\n",
              "    <tr>\n",
              "      <th>5</th>\n",
              "      <td>501825</td>\n",
              "      <td>6527</td>\n",
              "      <td>2</td>\n",
              "      <td>4</td>\n",
              "    </tr>\n",
              "    <tr>\n",
              "      <th>6</th>\n",
              "      <td>495620</td>\n",
              "      <td>6527</td>\n",
              "      <td>1</td>\n",
              "      <td>1</td>\n",
              "    </tr>\n",
              "    <tr>\n",
              "      <th>7</th>\n",
              "      <td>526542</td>\n",
              "      <td>6528</td>\n",
              "      <td>2</td>\n",
              "      <td>2</td>\n",
              "    </tr>\n",
              "    <tr>\n",
              "      <th>8</th>\n",
              "      <td>517351</td>\n",
              "      <td>6578</td>\n",
              "      <td>3</td>\n",
              "      <td>5</td>\n",
              "    </tr>\n",
              "    <tr>\n",
              "      <th>9</th>\n",
              "      <td>517351</td>\n",
              "      <td>6527</td>\n",
              "      <td>3</td>\n",
              "      <td>1</td>\n",
              "    </tr>\n",
              "  </tbody>\n",
              "</table>\n",
              "</div>"
            ],
            "text/plain": [
              "   Patient_ID  ...  Last_Stall_Visited_Number\n",
              "0      517875  ...                          1\n",
              "1      504692  ...                          1\n",
              "2      504692  ...                          1\n",
              "3      493167  ...                          4\n",
              "4      510954  ...                          2\n",
              "5      501825  ...                          4\n",
              "6      495620  ...                          1\n",
              "7      526542  ...                          2\n",
              "8      517351  ...                          5\n",
              "9      517351  ...                          1\n",
              "\n",
              "[10 rows x 4 columns]"
            ]
          },
          "metadata": {
            "tags": []
          },
          "execution_count": 232
        }
      ]
    },
    {
      "cell_type": "code",
      "metadata": {
        "id": "bPUt2iM3Nv5p",
        "colab_type": "code",
        "colab": {
          "base_uri": "https://localhost:8080/"
        },
        "outputId": "b5ea44c8-5070-4483-abdb-24aa5fd011a9"
      },
      "source": [
        "third_camp.info()"
      ],
      "execution_count": null,
      "outputs": [
        {
          "output_type": "stream",
          "text": [
            "<class 'pandas.core.frame.DataFrame'>\n",
            "RangeIndex: 6515 entries, 0 to 6514\n",
            "Data columns (total 4 columns):\n",
            " #   Column                     Non-Null Count  Dtype\n",
            "---  ------                     --------------  -----\n",
            " 0   Patient_ID                 6515 non-null   int64\n",
            " 1   Health_Camp_ID             6515 non-null   int64\n",
            " 2   Number_of_stall_visited    6515 non-null   int64\n",
            " 3   Last_Stall_Visited_Number  6515 non-null   int64\n",
            "dtypes: int64(4)\n",
            "memory usage: 203.7 KB\n"
          ],
          "name": "stdout"
        }
      ]
    },
    {
      "cell_type": "markdown",
      "metadata": {
        "id": "DkiOugFjZW_C",
        "colab_type": "text"
      },
      "source": [
        "* For the Health_camps and all the three camps  datasets we don't have any missing values "
      ]
    },
    {
      "cell_type": "markdown",
      "metadata": {
        "id": "EzwxhAhTvWob",
        "colab_type": "text"
      },
      "source": [
        "# **3.Prepare Data**"
      ]
    },
    {
      "cell_type": "markdown",
      "metadata": {
        "id": "UXGZQ82swGpe",
        "colab_type": "text"
      },
      "source": [
        "# a)Data Transfroms"
      ]
    },
    {
      "cell_type": "markdown",
      "metadata": {
        "id": "naw6mMCnwm7j",
        "colab_type": "text"
      },
      "source": [
        "# a) 1. Join Datasets"
      ]
    },
    {
      "cell_type": "code",
      "metadata": {
        "id": "Xsxi49YTNvzw",
        "colab_type": "code",
        "colab": {
          "base_uri": "https://localhost:8080/",
          "height": 527
        },
        "outputId": "472fab92-ebc3-45dd-9dc6-a2e5c94ab587"
      },
      "source": [
        "#Joining the the train data with health_camps dataset\n",
        "train_data = pd.merge(train,health_camps,on='Health_Camp_ID')\n",
        "train_data = pd.merge(train_data,patient_profile,on='Patient_ID')\n",
        "train_data.info()"
      ],
      "execution_count": null,
      "outputs": [
        {
          "output_type": "stream",
          "text": [
            "<class 'pandas.core.frame.DataFrame'>\n",
            "Int64Index: 75278 entries, 0 to 75277\n",
            "Data columns (total 23 columns):\n",
            " #   Column             Non-Null Count  Dtype \n",
            "---  ------             --------------  ----- \n",
            " 0   Patient_ID         75278 non-null  int64 \n",
            " 1   Health_Camp_ID     75278 non-null  int64 \n",
            " 2   Registration_Date  74944 non-null  object\n",
            " 3   Var1               75278 non-null  int64 \n",
            " 4   Var2               75278 non-null  int64 \n",
            " 5   Var3               75278 non-null  int64 \n",
            " 6   Var4               75278 non-null  int64 \n",
            " 7   Var5               75278 non-null  int64 \n",
            " 8   Camp_Start_Date    75278 non-null  object\n",
            " 9   Camp_End_Date      75278 non-null  object\n",
            " 10  Category1          75278 non-null  object\n",
            " 11  Category2          75278 non-null  object\n",
            " 12  Category3          75278 non-null  int64 \n",
            " 13  Online_Follower    75278 non-null  int64 \n",
            " 14  LinkedIn_Shared    75278 non-null  int64 \n",
            " 15  Twitter_Shared     75278 non-null  int64 \n",
            " 16  Facebook_Shared    75278 non-null  int64 \n",
            " 17  Income             75278 non-null  object\n",
            " 18  Education_Score    75278 non-null  object\n",
            " 19  Age                75278 non-null  object\n",
            " 20  First_Interaction  75278 non-null  object\n",
            " 21  City_Type          42070 non-null  object\n",
            " 22  Employer_Category  15203 non-null  object\n",
            "dtypes: int64(12), object(11)\n",
            "memory usage: 13.8+ MB\n"
          ],
          "name": "stdout"
        }
      ]
    },
    {
      "cell_type": "code",
      "metadata": {
        "id": "yBhuc6sI44B7",
        "colab_type": "code",
        "colab": {
          "base_uri": "https://localhost:8080/",
          "height": 527
        },
        "outputId": "92520e69-2703-4d47-b367-cd60b23a4775"
      },
      "source": [
        "#Joining the test data with health camp datasets \n",
        "test_data = pd.merge(test,health_camps,on='Health_Camp_ID')\n",
        "test_data = pd.merge(test_data,patient_profile,on='Patient_ID')\n",
        "train_data.info()"
      ],
      "execution_count": null,
      "outputs": [
        {
          "output_type": "stream",
          "text": [
            "<class 'pandas.core.frame.DataFrame'>\n",
            "Int64Index: 75278 entries, 0 to 75277\n",
            "Data columns (total 23 columns):\n",
            " #   Column             Non-Null Count  Dtype \n",
            "---  ------             --------------  ----- \n",
            " 0   Patient_ID         75278 non-null  int64 \n",
            " 1   Health_Camp_ID     75278 non-null  int64 \n",
            " 2   Registration_Date  74944 non-null  object\n",
            " 3   Var1               75278 non-null  int64 \n",
            " 4   Var2               75278 non-null  int64 \n",
            " 5   Var3               75278 non-null  int64 \n",
            " 6   Var4               75278 non-null  int64 \n",
            " 7   Var5               75278 non-null  int64 \n",
            " 8   Camp_Start_Date    75278 non-null  object\n",
            " 9   Camp_End_Date      75278 non-null  object\n",
            " 10  Category1          75278 non-null  object\n",
            " 11  Category2          75278 non-null  object\n",
            " 12  Category3          75278 non-null  int64 \n",
            " 13  Online_Follower    75278 non-null  int64 \n",
            " 14  LinkedIn_Shared    75278 non-null  int64 \n",
            " 15  Twitter_Shared     75278 non-null  int64 \n",
            " 16  Facebook_Shared    75278 non-null  int64 \n",
            " 17  Income             75278 non-null  object\n",
            " 18  Education_Score    75278 non-null  object\n",
            " 19  Age                75278 non-null  object\n",
            " 20  First_Interaction  75278 non-null  object\n",
            " 21  City_Type          42070 non-null  object\n",
            " 22  Employer_Category  15203 non-null  object\n",
            "dtypes: int64(12), object(11)\n",
            "memory usage: 13.8+ MB\n"
          ],
          "name": "stdout"
        }
      ]
    },
    {
      "cell_type": "markdown",
      "metadata": {
        "id": "pZ1TUS-pynHN",
        "colab_type": "text"
      },
      "source": [
        "# a) 2. Create The Target "
      ]
    },
    {
      "cell_type": "markdown",
      "metadata": {
        "id": "zlnwW1zPyv1V",
        "colab_type": "text"
      },
      "source": [
        "Favorable outcome:\n",
        "* For the first 2 formats, a favourable outcome is defined as getting a health_score, while in the third format it is defined as visiting at least a stall.\n",
        "* You need to predict the chances (probability) of having a favourable outcome"
      ]
    },
    {
      "cell_type": "code",
      "metadata": {
        "id": "AwnKfzVfgTzE",
        "colab_type": "code",
        "colab": {}
      },
      "source": [
        "#Patients who have visited at least a stall \n",
        "third_camp = third_camp[third_camp.Number_of_stall_visited > 0]\n"
      ],
      "execution_count": null,
      "outputs": []
    },
    {
      "cell_type": "code",
      "metadata": {
        "id": "bw2gdBmjcOXK",
        "colab_type": "code",
        "colab": {
          "base_uri": "https://localhost:8080/"
        },
        "outputId": "5d4dcbca-2d06-4a72-e63f-eaea751b0247"
      },
      "source": [
        "#Joining the train_data with the three health camps \n",
        "train_data = pd.merge(train_data,first_camp,on=['Patient_ID','Health_Camp_ID'],\n",
        "                      how='left')\n",
        "train_data = pd.merge(train_data,second_cammp,on=['Patient_ID','Health_Camp_ID'],\n",
        "                      how='left')\n",
        "train_data = pd.merge(train_data,third_camp,on=['Patient_ID','Health_Camp_ID'],\n",
        "                      how='left')\n",
        "train_data.info()"
      ],
      "execution_count": null,
      "outputs": [
        {
          "output_type": "stream",
          "text": [
            "<class 'pandas.core.frame.DataFrame'>\n",
            "Int64Index: 75278 entries, 0 to 75277\n",
            "Data columns (total 29 columns):\n",
            " #   Column                     Non-Null Count  Dtype  \n",
            "---  ------                     --------------  -----  \n",
            " 0   Patient_ID                 75278 non-null  int64  \n",
            " 1   Health_Camp_ID             75278 non-null  int64  \n",
            " 2   Registration_Date          74944 non-null  object \n",
            " 3   Var1                       75278 non-null  int64  \n",
            " 4   Var2                       75278 non-null  int64  \n",
            " 5   Var3                       75278 non-null  int64  \n",
            " 6   Var4                       75278 non-null  int64  \n",
            " 7   Var5                       75278 non-null  int64  \n",
            " 8   Camp_Start_Date            75278 non-null  object \n",
            " 9   Camp_End_Date              75278 non-null  object \n",
            " 10  Category1                  75278 non-null  object \n",
            " 11  Category2                  75278 non-null  object \n",
            " 12  Category3                  75278 non-null  int64  \n",
            " 13  Online_Follower            75278 non-null  int64  \n",
            " 14  LinkedIn_Shared            75278 non-null  int64  \n",
            " 15  Twitter_Shared             75278 non-null  int64  \n",
            " 16  Facebook_Shared            75278 non-null  int64  \n",
            " 17  Income                     75278 non-null  object \n",
            " 18  Education_Score            75278 non-null  object \n",
            " 19  Age                        75278 non-null  object \n",
            " 20  First_Interaction          75278 non-null  object \n",
            " 21  City_Type                  42070 non-null  object \n",
            " 22  Employer_Category          15203 non-null  object \n",
            " 23  Donation                   6218 non-null   float64\n",
            " 24  Health_Score               6218 non-null   float64\n",
            " 25  Unnamed: 4                 0 non-null      float64\n",
            " 26  Health Score               7819 non-null   float64\n",
            " 27  Number_of_stall_visited    6497 non-null   float64\n",
            " 28  Last_Stall_Visited_Number  6497 non-null   float64\n",
            "dtypes: float64(6), int64(12), object(11)\n",
            "memory usage: 17.2+ MB\n"
          ],
          "name": "stdout"
        }
      ]
    },
    {
      "cell_type": "code",
      "metadata": {
        "id": "6T5dqDi2hmJq",
        "colab_type": "code",
        "colab": {
          "base_uri": "https://localhost:8080/"
        },
        "outputId": "232269e3-8e37-44a0-ff67-16f19f067420"
      },
      "source": [
        "train_data['Target'] = np.zeros(train_data.shape[0],)\n",
        "\n",
        "#Condition:\n",
        "#If one of the this three (first or the second camp health score or the number of stall visited in the third camp)\n",
        "#is not null the Taget will  take the value 0 otherwise it will take 1\n",
        "cond = train_data['Health Score'].isna() & train_data['Health_Score'].isna() & train_data['Number_of_stall_visited'].isna()\n",
        "\n",
        "train_data['Target'] = np.where(cond,train_data['Target'],1)\n",
        "train_data['Target'].value_counts()\n"
      ],
      "execution_count": null,
      "outputs": [
        {
          "output_type": "stream",
          "text": [
            "/usr/local/lib/python3.6/dist-packages/pandas/core/computation/expressions.py:178: UserWarning: evaluating in Python space because the '*' operator is not supported by numexpr for the bool dtype, use '&' instead\n",
            "  f\"evaluating in Python space because the {repr(op_str)} \"\n"
          ],
          "name": "stderr"
        },
        {
          "output_type": "execute_result",
          "data": {
            "text/plain": [
              "0.0    54744\n",
              "1.0    20534\n",
              "Name: Target, dtype: int64"
            ]
          },
          "metadata": {
            "tags": []
          },
          "execution_count": 238
        }
      ]
    },
    {
      "cell_type": "code",
      "metadata": {
        "id": "DNOwVcgw3N-U",
        "colab_type": "code",
        "colab": {
          "base_uri": "https://localhost:8080/"
        },
        "outputId": "14ce48e6-7796-43da-f635-9419cfa63cc5"
      },
      "source": [
        "train_data.drop(['Health Score','Health_Score','Donation','Unnamed: 4',\n",
        "                 'Number_of_stall_visited','Last_Stall_Visited_Number'],\n",
        "                axis=1, inplace = True)\n",
        "train_data['Target'] = train_data['Target'].astype(int)\n",
        "train_data"
      ],
      "execution_count": null,
      "outputs": [
        {
          "output_type": "execute_result",
          "data": {
            "text/html": [
              "<div>\n",
              "<style scoped>\n",
              "    .dataframe tbody tr th:only-of-type {\n",
              "        vertical-align: middle;\n",
              "    }\n",
              "\n",
              "    .dataframe tbody tr th {\n",
              "        vertical-align: top;\n",
              "    }\n",
              "\n",
              "    .dataframe thead th {\n",
              "        text-align: right;\n",
              "    }\n",
              "</style>\n",
              "<table border=\"1\" class=\"dataframe\">\n",
              "  <thead>\n",
              "    <tr style=\"text-align: right;\">\n",
              "      <th></th>\n",
              "      <th>Patient_ID</th>\n",
              "      <th>Health_Camp_ID</th>\n",
              "      <th>Registration_Date</th>\n",
              "      <th>Var1</th>\n",
              "      <th>Var2</th>\n",
              "      <th>Var3</th>\n",
              "      <th>Var4</th>\n",
              "      <th>Var5</th>\n",
              "      <th>Camp_Start_Date</th>\n",
              "      <th>Camp_End_Date</th>\n",
              "      <th>Category1</th>\n",
              "      <th>Category2</th>\n",
              "      <th>Category3</th>\n",
              "      <th>Online_Follower</th>\n",
              "      <th>LinkedIn_Shared</th>\n",
              "      <th>Twitter_Shared</th>\n",
              "      <th>Facebook_Shared</th>\n",
              "      <th>Income</th>\n",
              "      <th>Education_Score</th>\n",
              "      <th>Age</th>\n",
              "      <th>First_Interaction</th>\n",
              "      <th>City_Type</th>\n",
              "      <th>Employer_Category</th>\n",
              "      <th>Target</th>\n",
              "    </tr>\n",
              "  </thead>\n",
              "  <tbody>\n",
              "    <tr>\n",
              "      <th>0</th>\n",
              "      <td>489652</td>\n",
              "      <td>6578</td>\n",
              "      <td>10-Sep-05</td>\n",
              "      <td>4</td>\n",
              "      <td>0</td>\n",
              "      <td>0</td>\n",
              "      <td>0</td>\n",
              "      <td>2</td>\n",
              "      <td>16-Aug-05</td>\n",
              "      <td>14-Oct-05</td>\n",
              "      <td>Third</td>\n",
              "      <td>G</td>\n",
              "      <td>2</td>\n",
              "      <td>0</td>\n",
              "      <td>0</td>\n",
              "      <td>0</td>\n",
              "      <td>0</td>\n",
              "      <td>None</td>\n",
              "      <td>None</td>\n",
              "      <td>None</td>\n",
              "      <td>06-Dec-04</td>\n",
              "      <td>NaN</td>\n",
              "      <td>NaN</td>\n",
              "      <td>1</td>\n",
              "    </tr>\n",
              "    <tr>\n",
              "      <th>1</th>\n",
              "      <td>489652</td>\n",
              "      <td>6570</td>\n",
              "      <td>01-May-05</td>\n",
              "      <td>0</td>\n",
              "      <td>0</td>\n",
              "      <td>0</td>\n",
              "      <td>0</td>\n",
              "      <td>0</td>\n",
              "      <td>09-Jul-05</td>\n",
              "      <td>22-Jul-05</td>\n",
              "      <td>First</td>\n",
              "      <td>E</td>\n",
              "      <td>2</td>\n",
              "      <td>0</td>\n",
              "      <td>0</td>\n",
              "      <td>0</td>\n",
              "      <td>0</td>\n",
              "      <td>None</td>\n",
              "      <td>None</td>\n",
              "      <td>None</td>\n",
              "      <td>06-Dec-04</td>\n",
              "      <td>NaN</td>\n",
              "      <td>NaN</td>\n",
              "      <td>0</td>\n",
              "    </tr>\n",
              "    <tr>\n",
              "      <th>2</th>\n",
              "      <td>489652</td>\n",
              "      <td>6527</td>\n",
              "      <td>08-May-05</td>\n",
              "      <td>0</td>\n",
              "      <td>0</td>\n",
              "      <td>0</td>\n",
              "      <td>0</td>\n",
              "      <td>0</td>\n",
              "      <td>13-Jun-05</td>\n",
              "      <td>22-Jul-05</td>\n",
              "      <td>Third</td>\n",
              "      <td>G</td>\n",
              "      <td>2</td>\n",
              "      <td>0</td>\n",
              "      <td>0</td>\n",
              "      <td>0</td>\n",
              "      <td>0</td>\n",
              "      <td>None</td>\n",
              "      <td>None</td>\n",
              "      <td>None</td>\n",
              "      <td>06-Dec-04</td>\n",
              "      <td>NaN</td>\n",
              "      <td>NaN</td>\n",
              "      <td>1</td>\n",
              "    </tr>\n",
              "    <tr>\n",
              "      <th>3</th>\n",
              "      <td>489652</td>\n",
              "      <td>6539</td>\n",
              "      <td>06-Dec-04</td>\n",
              "      <td>0</td>\n",
              "      <td>0</td>\n",
              "      <td>0</td>\n",
              "      <td>0</td>\n",
              "      <td>0</td>\n",
              "      <td>07-Aug-04</td>\n",
              "      <td>12-Feb-05</td>\n",
              "      <td>First</td>\n",
              "      <td>F</td>\n",
              "      <td>2</td>\n",
              "      <td>0</td>\n",
              "      <td>0</td>\n",
              "      <td>0</td>\n",
              "      <td>0</td>\n",
              "      <td>None</td>\n",
              "      <td>None</td>\n",
              "      <td>None</td>\n",
              "      <td>06-Dec-04</td>\n",
              "      <td>NaN</td>\n",
              "      <td>NaN</td>\n",
              "      <td>0</td>\n",
              "    </tr>\n",
              "    <tr>\n",
              "      <th>4</th>\n",
              "      <td>489652</td>\n",
              "      <td>6543</td>\n",
              "      <td>26-Nov-05</td>\n",
              "      <td>4</td>\n",
              "      <td>0</td>\n",
              "      <td>0</td>\n",
              "      <td>0</td>\n",
              "      <td>2</td>\n",
              "      <td>27-Sep-05</td>\n",
              "      <td>07-Nov-07</td>\n",
              "      <td>First</td>\n",
              "      <td>F</td>\n",
              "      <td>2</td>\n",
              "      <td>0</td>\n",
              "      <td>0</td>\n",
              "      <td>0</td>\n",
              "      <td>0</td>\n",
              "      <td>None</td>\n",
              "      <td>None</td>\n",
              "      <td>None</td>\n",
              "      <td>06-Dec-04</td>\n",
              "      <td>NaN</td>\n",
              "      <td>NaN</td>\n",
              "      <td>0</td>\n",
              "    </tr>\n",
              "    <tr>\n",
              "      <th>...</th>\n",
              "      <td>...</td>\n",
              "      <td>...</td>\n",
              "      <td>...</td>\n",
              "      <td>...</td>\n",
              "      <td>...</td>\n",
              "      <td>...</td>\n",
              "      <td>...</td>\n",
              "      <td>...</td>\n",
              "      <td>...</td>\n",
              "      <td>...</td>\n",
              "      <td>...</td>\n",
              "      <td>...</td>\n",
              "      <td>...</td>\n",
              "      <td>...</td>\n",
              "      <td>...</td>\n",
              "      <td>...</td>\n",
              "      <td>...</td>\n",
              "      <td>...</td>\n",
              "      <td>...</td>\n",
              "      <td>...</td>\n",
              "      <td>...</td>\n",
              "      <td>...</td>\n",
              "      <td>...</td>\n",
              "      <td>...</td>\n",
              "    </tr>\n",
              "    <tr>\n",
              "      <th>75273</th>\n",
              "      <td>511571</td>\n",
              "      <td>6565</td>\n",
              "      <td>03-May-04</td>\n",
              "      <td>0</td>\n",
              "      <td>0</td>\n",
              "      <td>0</td>\n",
              "      <td>0</td>\n",
              "      <td>0</td>\n",
              "      <td>29-Apr-04</td>\n",
              "      <td>04-May-04</td>\n",
              "      <td>First</td>\n",
              "      <td>C</td>\n",
              "      <td>2</td>\n",
              "      <td>0</td>\n",
              "      <td>0</td>\n",
              "      <td>0</td>\n",
              "      <td>0</td>\n",
              "      <td>None</td>\n",
              "      <td>None</td>\n",
              "      <td>None</td>\n",
              "      <td>17-Apr-04</td>\n",
              "      <td>B</td>\n",
              "      <td>NaN</td>\n",
              "      <td>1</td>\n",
              "    </tr>\n",
              "    <tr>\n",
              "      <th>75274</th>\n",
              "      <td>489634</td>\n",
              "      <td>6565</td>\n",
              "      <td>02-May-04</td>\n",
              "      <td>0</td>\n",
              "      <td>0</td>\n",
              "      <td>0</td>\n",
              "      <td>0</td>\n",
              "      <td>0</td>\n",
              "      <td>29-Apr-04</td>\n",
              "      <td>04-May-04</td>\n",
              "      <td>First</td>\n",
              "      <td>C</td>\n",
              "      <td>2</td>\n",
              "      <td>0</td>\n",
              "      <td>0</td>\n",
              "      <td>0</td>\n",
              "      <td>0</td>\n",
              "      <td>None</td>\n",
              "      <td>None</td>\n",
              "      <td>None</td>\n",
              "      <td>29-Mar-04</td>\n",
              "      <td>I</td>\n",
              "      <td>NaN</td>\n",
              "      <td>0</td>\n",
              "    </tr>\n",
              "    <tr>\n",
              "      <th>75275</th>\n",
              "      <td>497277</td>\n",
              "      <td>6565</td>\n",
              "      <td>03-May-04</td>\n",
              "      <td>0</td>\n",
              "      <td>0</td>\n",
              "      <td>0</td>\n",
              "      <td>0</td>\n",
              "      <td>0</td>\n",
              "      <td>29-Apr-04</td>\n",
              "      <td>04-May-04</td>\n",
              "      <td>First</td>\n",
              "      <td>C</td>\n",
              "      <td>2</td>\n",
              "      <td>0</td>\n",
              "      <td>0</td>\n",
              "      <td>0</td>\n",
              "      <td>0</td>\n",
              "      <td>None</td>\n",
              "      <td>None</td>\n",
              "      <td>None</td>\n",
              "      <td>25-Apr-04</td>\n",
              "      <td>D</td>\n",
              "      <td>NaN</td>\n",
              "      <td>0</td>\n",
              "    </tr>\n",
              "    <tr>\n",
              "      <th>75276</th>\n",
              "      <td>492146</td>\n",
              "      <td>6565</td>\n",
              "      <td>01-May-04</td>\n",
              "      <td>0</td>\n",
              "      <td>0</td>\n",
              "      <td>0</td>\n",
              "      <td>0</td>\n",
              "      <td>0</td>\n",
              "      <td>29-Apr-04</td>\n",
              "      <td>04-May-04</td>\n",
              "      <td>First</td>\n",
              "      <td>C</td>\n",
              "      <td>2</td>\n",
              "      <td>0</td>\n",
              "      <td>0</td>\n",
              "      <td>0</td>\n",
              "      <td>0</td>\n",
              "      <td>None</td>\n",
              "      <td>None</td>\n",
              "      <td>None</td>\n",
              "      <td>23-Apr-04</td>\n",
              "      <td>NaN</td>\n",
              "      <td>NaN</td>\n",
              "      <td>0</td>\n",
              "    </tr>\n",
              "    <tr>\n",
              "      <th>75277</th>\n",
              "      <td>487071</td>\n",
              "      <td>6565</td>\n",
              "      <td>01-May-04</td>\n",
              "      <td>0</td>\n",
              "      <td>0</td>\n",
              "      <td>0</td>\n",
              "      <td>0</td>\n",
              "      <td>0</td>\n",
              "      <td>29-Apr-04</td>\n",
              "      <td>04-May-04</td>\n",
              "      <td>First</td>\n",
              "      <td>C</td>\n",
              "      <td>2</td>\n",
              "      <td>0</td>\n",
              "      <td>0</td>\n",
              "      <td>0</td>\n",
              "      <td>0</td>\n",
              "      <td>None</td>\n",
              "      <td>None</td>\n",
              "      <td>None</td>\n",
              "      <td>25-Apr-04</td>\n",
              "      <td>NaN</td>\n",
              "      <td>NaN</td>\n",
              "      <td>0</td>\n",
              "    </tr>\n",
              "  </tbody>\n",
              "</table>\n",
              "<p>75278 rows × 24 columns</p>\n",
              "</div>"
            ],
            "text/plain": [
              "       Patient_ID  Health_Camp_ID  ... Employer_Category  Target\n",
              "0          489652            6578  ...               NaN       1\n",
              "1          489652            6570  ...               NaN       0\n",
              "2          489652            6527  ...               NaN       1\n",
              "3          489652            6539  ...               NaN       0\n",
              "4          489652            6543  ...               NaN       0\n",
              "...           ...             ...  ...               ...     ...\n",
              "75273      511571            6565  ...               NaN       1\n",
              "75274      489634            6565  ...               NaN       0\n",
              "75275      497277            6565  ...               NaN       0\n",
              "75276      492146            6565  ...               NaN       0\n",
              "75277      487071            6565  ...               NaN       0\n",
              "\n",
              "[75278 rows x 24 columns]"
            ]
          },
          "metadata": {
            "tags": []
          },
          "execution_count": 239
        }
      ]
    },
    {
      "cell_type": "markdown",
      "metadata": {
        "id": "papZ_ydy02vQ",
        "colab_type": "text"
      },
      "source": [
        "#a) 3. Dealing with Dates"
      ]
    },
    {
      "cell_type": "code",
      "metadata": {
        "id": "iYbSf0qHL8vK",
        "colab_type": "code",
        "colab": {
          "base_uri": "https://localhost:8080/",
          "height": 544
        },
        "outputId": "85d56255-2d33-46bf-8d76-52eb122b83db"
      },
      "source": [
        "train_data.dropna(subset=['Registration_Date'],inplace=True)\n",
        "train_data.info()"
      ],
      "execution_count": null,
      "outputs": [
        {
          "output_type": "stream",
          "text": [
            "<class 'pandas.core.frame.DataFrame'>\n",
            "Int64Index: 74944 entries, 0 to 75277\n",
            "Data columns (total 24 columns):\n",
            " #   Column             Non-Null Count  Dtype \n",
            "---  ------             --------------  ----- \n",
            " 0   Patient_ID         74944 non-null  int64 \n",
            " 1   Health_Camp_ID     74944 non-null  int64 \n",
            " 2   Registration_Date  74944 non-null  object\n",
            " 3   Var1               74944 non-null  int64 \n",
            " 4   Var2               74944 non-null  int64 \n",
            " 5   Var3               74944 non-null  int64 \n",
            " 6   Var4               74944 non-null  int64 \n",
            " 7   Var5               74944 non-null  int64 \n",
            " 8   Camp_Start_Date    74944 non-null  object\n",
            " 9   Camp_End_Date      74944 non-null  object\n",
            " 10  Category1          74944 non-null  object\n",
            " 11  Category2          74944 non-null  object\n",
            " 12  Category3          74944 non-null  int64 \n",
            " 13  Online_Follower    74944 non-null  int64 \n",
            " 14  LinkedIn_Shared    74944 non-null  int64 \n",
            " 15  Twitter_Shared     74944 non-null  int64 \n",
            " 16  Facebook_Shared    74944 non-null  int64 \n",
            " 17  Income             74944 non-null  object\n",
            " 18  Education_Score    74944 non-null  object\n",
            " 19  Age                74944 non-null  object\n",
            " 20  First_Interaction  74944 non-null  object\n",
            " 21  City_Type          41876 non-null  object\n",
            " 22  Employer_Category  15066 non-null  object\n",
            " 23  Target             74944 non-null  int64 \n",
            "dtypes: int64(13), object(11)\n",
            "memory usage: 14.3+ MB\n"
          ],
          "name": "stdout"
        }
      ]
    },
    {
      "cell_type": "code",
      "metadata": {
        "id": "cS5cfgcs1-Cw",
        "colab_type": "code",
        "colab": {}
      },
      "source": [
        "#function that extracts year and month to create columns in data frame \n",
        "def extract_date(df,column):\n",
        "  df[column.replace('_Date','_Year')] = pd.to_datetime(df[column]).apply(lambda x: x.year).astype(int)\n",
        "  df[column.replace('_Date','_Month')] = pd.to_datetime(df[column]).apply(lambda x: x.month).astype(int)\n",
        "  df[column.replace('_Date','_Day')] = pd.to_datetime(df[column]).apply(lambda x: x.day).astype(int)\n",
        "  \n"
      ],
      "execution_count": null,
      "outputs": []
    },
    {
      "cell_type": "code",
      "metadata": {
        "id": "nVsQb62p4sut",
        "colab_type": "code",
        "colab": {
          "base_uri": "https://localhost:8080/",
          "height": 697
        },
        "outputId": "1a95249c-095f-4ed7-fc77-be99dfbe4fee"
      },
      "source": [
        "extract_date(train_data,'Registration_Date')\n",
        "extract_date(train_data,'Camp_Start_Date')\n",
        "extract_date(train_data,'Camp_End_Date')\n",
        "train_data.info()"
      ],
      "execution_count": null,
      "outputs": [
        {
          "output_type": "stream",
          "text": [
            "<class 'pandas.core.frame.DataFrame'>\n",
            "Int64Index: 74944 entries, 0 to 75277\n",
            "Data columns (total 33 columns):\n",
            " #   Column              Non-Null Count  Dtype \n",
            "---  ------              --------------  ----- \n",
            " 0   Patient_ID          74944 non-null  int64 \n",
            " 1   Health_Camp_ID      74944 non-null  int64 \n",
            " 2   Registration_Date   74944 non-null  object\n",
            " 3   Var1                74944 non-null  int64 \n",
            " 4   Var2                74944 non-null  int64 \n",
            " 5   Var3                74944 non-null  int64 \n",
            " 6   Var4                74944 non-null  int64 \n",
            " 7   Var5                74944 non-null  int64 \n",
            " 8   Camp_Start_Date     74944 non-null  object\n",
            " 9   Camp_End_Date       74944 non-null  object\n",
            " 10  Category1           74944 non-null  object\n",
            " 11  Category2           74944 non-null  object\n",
            " 12  Category3           74944 non-null  int64 \n",
            " 13  Online_Follower     74944 non-null  int64 \n",
            " 14  LinkedIn_Shared     74944 non-null  int64 \n",
            " 15  Twitter_Shared      74944 non-null  int64 \n",
            " 16  Facebook_Shared     74944 non-null  int64 \n",
            " 17  Income              74944 non-null  object\n",
            " 18  Education_Score     74944 non-null  object\n",
            " 19  Age                 74944 non-null  object\n",
            " 20  First_Interaction   74944 non-null  object\n",
            " 21  City_Type           41876 non-null  object\n",
            " 22  Employer_Category   15066 non-null  object\n",
            " 23  Target              74944 non-null  int64 \n",
            " 24  Registration_Year   74944 non-null  int64 \n",
            " 25  Registration_Month  74944 non-null  int64 \n",
            " 26  Registration_Day    74944 non-null  int64 \n",
            " 27  Camp_Start_Year     74944 non-null  int64 \n",
            " 28  Camp_Start_Month    74944 non-null  int64 \n",
            " 29  Camp_Start_Day      74944 non-null  int64 \n",
            " 30  Camp_End_Year       74944 non-null  int64 \n",
            " 31  Camp_End_Month      74944 non-null  int64 \n",
            " 32  Camp_End_Day        74944 non-null  int64 \n",
            "dtypes: int64(22), object(11)\n",
            "memory usage: 19.4+ MB\n"
          ],
          "name": "stdout"
        }
      ]
    },
    {
      "cell_type": "code",
      "metadata": {
        "id": "ksgmi92TT0Ci",
        "colab_type": "code",
        "colab": {
          "base_uri": "https://localhost:8080/",
          "height": 680
        },
        "outputId": "519d9ac4-9e98-440d-ddf0-bf72a19bda62"
      },
      "source": [
        "extract_date(test_data,'Camp_Start_Date')\n",
        "extract_date(test_data,'Camp_End_Date')\n",
        "extract_date(test_data,'Registration_Date')\n",
        "test_data.info()\n"
      ],
      "execution_count": null,
      "outputs": [
        {
          "output_type": "stream",
          "text": [
            "<class 'pandas.core.frame.DataFrame'>\n",
            "Int64Index: 35249 entries, 0 to 35248\n",
            "Data columns (total 32 columns):\n",
            " #   Column              Non-Null Count  Dtype \n",
            "---  ------              --------------  ----- \n",
            " 0   Patient_ID          35249 non-null  int64 \n",
            " 1   Health_Camp_ID      35249 non-null  int64 \n",
            " 2   Registration_Date   35249 non-null  object\n",
            " 3   Var1                35249 non-null  int64 \n",
            " 4   Var2                35249 non-null  int64 \n",
            " 5   Var3                35249 non-null  int64 \n",
            " 6   Var4                35249 non-null  int64 \n",
            " 7   Var5                35249 non-null  int64 \n",
            " 8   Camp_Start_Date     35249 non-null  object\n",
            " 9   Camp_End_Date       35249 non-null  object\n",
            " 10  Category1           35249 non-null  object\n",
            " 11  Category2           35249 non-null  object\n",
            " 12  Category3           35249 non-null  int64 \n",
            " 13  Online_Follower     35249 non-null  int64 \n",
            " 14  LinkedIn_Shared     35249 non-null  int64 \n",
            " 15  Twitter_Shared      35249 non-null  int64 \n",
            " 16  Facebook_Shared     35249 non-null  int64 \n",
            " 17  Income              35249 non-null  object\n",
            " 18  Education_Score     35249 non-null  object\n",
            " 19  Age                 35249 non-null  object\n",
            " 20  First_Interaction   35249 non-null  object\n",
            " 21  City_Type           21855 non-null  object\n",
            " 22  Employer_Category   4361 non-null   object\n",
            " 23  Camp_Start_Year     35249 non-null  int64 \n",
            " 24  Camp_Start_Month    35249 non-null  int64 \n",
            " 25  Camp_Start_Day      35249 non-null  int64 \n",
            " 26  Camp_End_Year       35249 non-null  int64 \n",
            " 27  Camp_End_Month      35249 non-null  int64 \n",
            " 28  Camp_End_Day        35249 non-null  int64 \n",
            " 29  Registration_Year   35249 non-null  int64 \n",
            " 30  Registration_Month  35249 non-null  int64 \n",
            " 31  Registration_Day    35249 non-null  int64 \n",
            "dtypes: int64(21), object(11)\n",
            "memory usage: 8.9+ MB\n"
          ],
          "name": "stdout"
        }
      ]
    },
    {
      "cell_type": "code",
      "metadata": {
        "id": "a-iwzHSfwD1r",
        "colab_type": "code",
        "colab": {}
      },
      "source": [
        "train_data['Social_Media'] = train_data['LinkedIn_Shared'] + train_data['Online_Follower'] + train_data['Facebook_Shared'] +train_data['Twitter_Shared']\n",
        "test_data['Social_Media'] = test_data['LinkedIn_Shared'] + test_data['Online_Follower'] + test_data['Facebook_Shared'] +test_data['Twitter_Shared']"
      ],
      "execution_count": null,
      "outputs": []
    },
    {
      "cell_type": "code",
      "metadata": {
        "id": "4IGfXh5I4jze",
        "colab_type": "code",
        "colab": {}
      },
      "source": [
        "categorical_features = ['Category1','Category2']\n",
        "numerical_features = ['Var1','Var2','Var3','Var4','Var5','Category3',\n",
        "                      'Camp_Start_Month','Camp_End_Month','Registration_Month',\n",
        "                      'Camp_Start_Year','Camp_End_Year', 'Registration_Year',\n",
        "                      'Camp_Start_Day','Camp_End_Day', 'Registration_Day',\n",
        "                      'Social_Media']"
      ],
      "execution_count": null,
      "outputs": []
    },
    {
      "cell_type": "code",
      "metadata": {
        "id": "uf-s7e3P438G",
        "colab_type": "code",
        "colab": {}
      },
      "source": [
        "encoder = LabelEncoder()\n",
        "for col in categorical_features:\n",
        "  train_data[col] = encoder.fit_transform(train_data[col])\n",
        "  test_data[col] = encoder.transform(test_data[col])"
      ],
      "execution_count": null,
      "outputs": []
    },
    {
      "cell_type": "code",
      "metadata": {
        "id": "3vgiAZfv4310",
        "colab_type": "code",
        "colab": {}
      },
      "source": [
        "features = categorical_features + numerical_features\n",
        "X = train_data[features]\n",
        "y = train_data['Target']\n"
      ],
      "execution_count": null,
      "outputs": []
    },
    {
      "cell_type": "code",
      "metadata": {
        "id": "ex7d6LeiC7eb",
        "colab_type": "code",
        "colab": {
          "base_uri": "https://localhost:8080/",
          "height": 340
        },
        "outputId": "61c410d5-5e87-49dc-eda8-7c23472db685"
      },
      "source": [
        "best_features = SelectKBest(score_func=chi2,k='all')\n",
        "best_features.fit(X,y)\n",
        "X = best_features.transform(X)\n",
        "result = dict(zip(features,best_features.scores_))\n",
        "result_sr = pd.Series(result)\n",
        "result_sr.sort_values()\n"
      ],
      "execution_count": null,
      "outputs": [
        {
          "output_type": "execute_result",
          "data": {
            "text/plain": [
              "Category3                 0.001408\n",
              "Camp_End_Year             0.365272\n",
              "Registration_Year         0.767989\n",
              "Camp_Start_Year           0.867961\n",
              "Var3                     15.964632\n",
              "Var4                    140.635793\n",
              "Camp_Start_Month        326.357228\n",
              "Camp_Start_Day          341.850187\n",
              "Registration_Day        356.440283\n",
              "Social_Media            603.431547\n",
              "Registration_Month      666.029737\n",
              "Camp_End_Month          709.145241\n",
              "Category2               791.631080\n",
              "Var5                   1842.074221\n",
              "Var2                   4986.860585\n",
              "Camp_End_Day           5781.278689\n",
              "Var1                  11271.455372\n",
              "Category1             17316.318279\n",
              "dtype: float64"
            ]
          },
          "metadata": {
            "tags": []
          },
          "execution_count": 248
        }
      ]
    },
    {
      "cell_type": "code",
      "metadata": {
        "id": "kK7nlMTbDuXF",
        "colab_type": "code",
        "colab": {}
      },
      "source": [
        "X_train,X_test,y_train,y_test = train_test_split(X,y,test_size=0.2,random_state=0)"
      ],
      "execution_count": null,
      "outputs": []
    },
    {
      "cell_type": "code",
      "metadata": {
        "id": "4JFzN-k243ux",
        "colab_type": "code",
        "colab": {
          "base_uri": "https://localhost:8080/",
          "height": 86
        },
        "outputId": "32dca917-d3cf-4b2b-8f4e-b6e3e1ccf17e"
      },
      "source": [
        "\"\"\"\n",
        "models = []\n",
        "models.append(('LR',LogisticRegression()))\n",
        "models.append(('LDA',LinearDiscriminantAnalysis()))\n",
        "models.append(('KNN',KNeighborsClassifier()))\n",
        "models.append(('CART',DecisionTreeClassifier()))\n",
        "models.append(('NB',GaussianNB()))\n",
        "models.append(('SVM',SVC()))\n",
        "\n",
        "names = []\n",
        "results = []\n",
        "for name,model in models:\n",
        "  kfold = KFold(n_splits = 5,random_state=0)\n",
        "  cv_results = cross_val_score(model,X_train,y_train,cv=kfold)\n",
        "  results.append(cv_results)\n",
        "  names.append(name)\n",
        "\"\"\""
      ],
      "execution_count": null,
      "outputs": [
        {
          "output_type": "execute_result",
          "data": {
            "application/vnd.google.colaboratory.intrinsic": {
              "type": "string"
            },
            "text/plain": [
              "\"\\nmodels = []\\nmodels.append(('LR',LogisticRegression()))\\nmodels.append(('LDA',LinearDiscriminantAnalysis()))\\nmodels.append(('KNN',KNeighborsClassifier()))\\nmodels.append(('CART',DecisionTreeClassifier()))\\nmodels.append(('NB',GaussianNB()))\\nmodels.append(('SVM',SVC()))\\n\\nnames = []\\nresults = []\\nfor name,model in models:\\n  kfold = KFold(n_splits = 5,random_state=0)\\n  cv_results = cross_val_score(model,X_train,y_train,cv=kfold)\\n  results.append(cv_results)\\n  names.append(name)\\n\""
            ]
          },
          "metadata": {
            "tags": []
          },
          "execution_count": 250
        }
      ]
    },
    {
      "cell_type": "code",
      "metadata": {
        "id": "hqjIuwEL7oh9",
        "colab_type": "code",
        "colab": {
          "base_uri": "https://localhost:8080/",
          "height": 35
        },
        "outputId": "e8cfc903-1a0a-4180-cc64-a1d2e7b9fd7e"
      },
      "source": [
        "\"\"\"#Evaluating the results\n",
        "for name,cv_results in zip(names,results):\n",
        "  print(\"%s: %f (%f)\" % (name, cv_results.mean(), cv_results.std()))\n",
        "\"\"\""
      ],
      "execution_count": null,
      "outputs": [
        {
          "output_type": "execute_result",
          "data": {
            "application/vnd.google.colaboratory.intrinsic": {
              "type": "string"
            },
            "text/plain": [
              "'#Evaluating the results\\nfor name,cv_results in zip(names,results):\\n  print(\"%s: %f (%f)\" % (name, cv_results.mean(), cv_results.std()))\\n'"
            ]
          },
          "metadata": {
            "tags": []
          },
          "execution_count": 251
        }
      ]
    },
    {
      "cell_type": "code",
      "metadata": {
        "id": "wC7QH-Ww8jrn",
        "colab_type": "code",
        "colab": {
          "base_uri": "https://localhost:8080/",
          "height": 52
        },
        "outputId": "2e6105e6-f344-4ced-9585-27443ee1aff7"
      },
      "source": [
        "\"\"\"\n",
        "#Evaluating the best 3 models on the test dataset\n",
        "LR = LogisticRegression().fit(X_train,y_train)\n",
        "CART = DecisionTreeClassifier().fit(X_train,y_train)\n",
        "SVC = SVC().fit(X_train,y_train)\n",
        "best_models = [('LR',LR),\n",
        "               ('CART',CART),\n",
        "               ('SVC',SVC)]\n",
        "\"\"\"\n"
      ],
      "execution_count": null,
      "outputs": [
        {
          "output_type": "execute_result",
          "data": {
            "application/vnd.google.colaboratory.intrinsic": {
              "type": "string"
            },
            "text/plain": [
              "\"\\n#Evaluating the best 3 models on the test dataset\\nLR = LogisticRegression().fit(X_train,y_train)\\nCART = DecisionTreeClassifier().fit(X_train,y_train)\\nSVC = SVC().fit(X_train,y_train)\\nbest_models = [('LR',LR),\\n               ('CART',CART),\\n               ('SVC',SVC)]\\n\""
            ]
          },
          "metadata": {
            "tags": []
          },
          "execution_count": 252
        }
      ]
    },
    {
      "cell_type": "code",
      "metadata": {
        "id": "KVdiUWAL9Chi",
        "colab_type": "code",
        "colab": {
          "base_uri": "https://localhost:8080/",
          "height": 35
        },
        "outputId": "d500fb9d-4a8b-4e0c-de24-252e25df32b5"
      },
      "source": [
        "\"\"\"\n",
        "for name,model in best_models:\n",
        "  print(\"%s: %f\" % (name, model.score(X_test,y_test)))\n",
        "\"\"\""
      ],
      "execution_count": null,
      "outputs": [
        {
          "output_type": "execute_result",
          "data": {
            "application/vnd.google.colaboratory.intrinsic": {
              "type": "string"
            },
            "text/plain": [
              "'\\nfor name,model in best_models:\\n  print(\"%s: %f\" % (name, model.score(X_test,y_test)))\\n'"
            ]
          },
          "metadata": {
            "tags": []
          },
          "execution_count": 253
        }
      ]
    },
    {
      "cell_type": "code",
      "metadata": {
        "id": "1yzYR06hLvbX",
        "colab_type": "code",
        "colab": {
          "base_uri": "https://localhost:8080/",
          "height": 52
        },
        "outputId": "71fa3bb9-02d3-43d2-8f56-c4d31cdb013e"
      },
      "source": [
        "\"\"\"estimator = KNeighborsClassifier()\n",
        "params = {'n_neighbors':[1,2,3,4,5,6,7,8,9]}\n",
        "grid_cv = GridSearchCV(estimator=estimator,param_grid=params)\n",
        "grid_cv.fit(X_train,y_train)\n",
        "\n",
        "\"\"\""
      ],
      "execution_count": null,
      "outputs": [
        {
          "output_type": "execute_result",
          "data": {
            "application/vnd.google.colaboratory.intrinsic": {
              "type": "string"
            },
            "text/plain": [
              "\"estimator = KNeighborsClassifier()\\nparams = {'n_neighbors':[1,2,3,4,5,6,7,8,9]}\\ngrid_cv = GridSearchCV(estimator=estimator,param_grid=params)\\ngrid_cv.fit(X_train,y_train)\\n\\n\""
            ]
          },
          "metadata": {
            "tags": []
          },
          "execution_count": 254
        }
      ]
    },
    {
      "cell_type": "code",
      "metadata": {
        "id": "wbz9k3cNNiop",
        "colab_type": "code",
        "colab": {
          "base_uri": "https://localhost:8080/",
          "height": 69
        },
        "outputId": "9a945b86-50d1-4f03-e2e8-92fae3487996"
      },
      "source": [
        "\"\"\"\n",
        "print(\"Best: %f using %s\" % (grid_cv.best_score_, grid_cv.best_params_))\n",
        "means = grid_cv.cv_results_['mean_test_score']\n",
        "stds = grid_cv.cv_results_['std_test_score']\n",
        "params = grid_cv.cv_results_['params']\n",
        "for mean, stdev, param in zip(means, stds, params):\n",
        "  print(\"%f (%f) with: %r\" % (mean, stdev, param))\n",
        "\"\"\"  "
      ],
      "execution_count": null,
      "outputs": [
        {
          "output_type": "execute_result",
          "data": {
            "application/vnd.google.colaboratory.intrinsic": {
              "type": "string"
            },
            "text/plain": [
              "'\\nprint(\"Best: %f using %s\" % (grid_cv.best_score_, grid_cv.best_params_))\\nmeans = grid_cv.cv_results_[\\'mean_test_score\\']\\nstds = grid_cv.cv_results_[\\'std_test_score\\']\\nparams = grid_cv.cv_results_[\\'params\\']\\nfor mean, stdev, param in zip(means, stds, params):\\n  print(\"%f (%f) with: %r\" % (mean, stdev, param))\\n'"
            ]
          },
          "metadata": {
            "tags": []
          },
          "execution_count": 255
        }
      ]
    },
    {
      "cell_type": "code",
      "metadata": {
        "id": "dK9oHVxrOlid",
        "colab_type": "code",
        "colab": {
          "base_uri": "https://localhost:8080/",
          "height": 136
        },
        "outputId": "2b1eb0ca-e684-446f-de0e-3f8636784801"
      },
      "source": [
        "import xgboost as xgb\n",
        "model = xgb.XGBClassifier()\n",
        "model.fit(X_train,y_train)"
      ],
      "execution_count": null,
      "outputs": [
        {
          "output_type": "execute_result",
          "data": {
            "text/plain": [
              "XGBClassifier(base_score=0.5, booster='gbtree', colsample_bylevel=1,\n",
              "              colsample_bynode=1, colsample_bytree=1, gamma=0,\n",
              "              learning_rate=0.1, max_delta_step=0, max_depth=3,\n",
              "              min_child_weight=1, missing=None, n_estimators=100, n_jobs=1,\n",
              "              nthread=None, objective='binary:logistic', random_state=0,\n",
              "              reg_alpha=0, reg_lambda=1, scale_pos_weight=1, seed=None,\n",
              "              silent=None, subsample=1, verbosity=1)"
            ]
          },
          "metadata": {
            "tags": []
          },
          "execution_count": 256
        }
      ]
    },
    {
      "cell_type": "code",
      "metadata": {
        "id": "P-Hm_XKG9oFd",
        "colab_type": "code",
        "colab": {
          "base_uri": "https://localhost:8080/",
          "height": 34
        },
        "outputId": "e6aef4ee-c98c-47ec-8839-0a5badf21f2d"
      },
      "source": [
        "model.score(X_test,y_test)"
      ],
      "execution_count": null,
      "outputs": [
        {
          "output_type": "execute_result",
          "data": {
            "text/plain": [
              "0.8092601240910001"
            ]
          },
          "metadata": {
            "tags": []
          },
          "execution_count": 257
        }
      ]
    },
    {
      "cell_type": "code",
      "metadata": {
        "id": "zsRC1Mt7_7hm",
        "colab_type": "code",
        "colab": {
          "base_uri": "https://localhost:8080/",
          "height": 34
        },
        "outputId": "1e4f24c5-c463-44bf-ea07-a5d375c030c6"
      },
      "source": [
        "from sklearn.ensemble import RandomForestClassifier\n",
        "RF = RandomForestClassifier(n_estimators=400)\n",
        "RF.fit(X_train,y_train)\n",
        "RF.score(X_test,y_test)"
      ],
      "execution_count": null,
      "outputs": [
        {
          "output_type": "execute_result",
          "data": {
            "text/plain": [
              "0.8074588031222897"
            ]
          },
          "metadata": {
            "tags": []
          },
          "execution_count": 258
        }
      ]
    },
    {
      "cell_type": "code",
      "metadata": {
        "id": "orYtx7CFKIxw",
        "colab_type": "code",
        "colab": {
          "base_uri": "https://localhost:8080/",
          "height": 170
        },
        "outputId": "bd6a78be-191e-4ceb-c0e1-7c5b5513cdb3"
      },
      "source": [
        "LR = LogisticRegression().fit(X_train,y_train)\n",
        "LR.score(X_test,y_test)\n"
      ],
      "execution_count": null,
      "outputs": [
        {
          "output_type": "stream",
          "text": [
            "/usr/local/lib/python3.6/dist-packages/sklearn/linear_model/_logistic.py:940: ConvergenceWarning: lbfgs failed to converge (status=1):\n",
            "STOP: TOTAL NO. of ITERATIONS REACHED LIMIT.\n",
            "\n",
            "Increase the number of iterations (max_iter) or scale the data as shown in:\n",
            "    https://scikit-learn.org/stable/modules/preprocessing.html\n",
            "Please also refer to the documentation for alternative solver options:\n",
            "    https://scikit-learn.org/stable/modules/linear_model.html#logistic-regression\n",
            "  extra_warning_msg=_LOGISTIC_SOLVER_CONVERGENCE_MSG)\n"
          ],
          "name": "stderr"
        },
        {
          "output_type": "execute_result",
          "data": {
            "text/plain": [
              "0.7516845686837014"
            ]
          },
          "metadata": {
            "tags": []
          },
          "execution_count": 259
        }
      ]
    },
    {
      "cell_type": "code",
      "metadata": {
        "id": "degZl6TVApHd",
        "colab_type": "code",
        "colab": {
          "base_uri": "https://localhost:8080/",
          "height": 34
        },
        "outputId": "2b88b799-6c68-430a-b1b3-a679b408a78a"
      },
      "source": [
        "from sklearn.metrics import roc_auc_score\n",
        "pred = model.predict(X_test)\n",
        "roc_auc_score(pred,y_test)"
      ],
      "execution_count": null,
      "outputs": [
        {
          "output_type": "execute_result",
          "data": {
            "text/plain": [
              "0.762478832603919"
            ]
          },
          "metadata": {
            "tags": []
          },
          "execution_count": 260
        }
      ]
    },
    {
      "cell_type": "code",
      "metadata": {
        "id": "fay1656O9mez",
        "colab_type": "code",
        "colab": {
          "base_uri": "https://localhost:8080/",
          "height": 34
        },
        "outputId": "53ba6c16-ce7f-4973-98fb-4319f1523ee2"
      },
      "source": [
        "X_sub = test_data[features]\n",
        "X_sub = best_features.transform(X_sub)\n",
        "preds = model.predict(X_sub)\n",
        "preds"
      ],
      "execution_count": null,
      "outputs": [
        {
          "output_type": "execute_result",
          "data": {
            "text/plain": [
              "array([1, 0, 0, ..., 0, 0, 0], dtype=int64)"
            ]
          },
          "metadata": {
            "tags": []
          },
          "execution_count": 263
        }
      ]
    },
    {
      "cell_type": "code",
      "metadata": {
        "id": "JO8P_P-l0GJg",
        "colab_type": "code",
        "colab": {
          "base_uri": "https://localhost:8080/",
          "height": 255
        },
        "outputId": "f99c89e0-e5ab-4feb-dbcf-8adce7a54b3c"
      },
      "source": [
        "from lightgbm import LGBMClassifier\n",
        "\n",
        "clf = LGBMClassifier(n_estimators=550,\n",
        "                     learning_rate=0.03,\n",
        "                     min_child_samples=40,\n",
        "                     random_state=1,\n",
        "                     colsample_bytree=0.5,\n",
        "                     reg_alpha=2,\n",
        "                     reg_lambda=2)\n",
        "\n",
        "clf.fit(X_train, y_train, eval_set=[(X_test, y_test )], verbose=50,\n",
        "        eval_metric = 'auc', early_stopping_rounds = 100)\n",
        "\n",
        "preds = clf.predict_proba(X_sub)[:, 1]"
      ],
      "execution_count": null,
      "outputs": [
        {
          "output_type": "stream",
          "text": [
            "Training until validation scores don't improve for 100 rounds.\n",
            "[50]\tvalid_0's binary_logloss: 0.445792\tvalid_0's auc: 0.82726\n",
            "[100]\tvalid_0's binary_logloss: 0.43106\tvalid_0's auc: 0.830619\n",
            "[150]\tvalid_0's binary_logloss: 0.42741\tvalid_0's auc: 0.832638\n",
            "[200]\tvalid_0's binary_logloss: 0.42583\tvalid_0's auc: 0.833718\n",
            "[250]\tvalid_0's binary_logloss: 0.424993\tvalid_0's auc: 0.834318\n",
            "[300]\tvalid_0's binary_logloss: 0.424505\tvalid_0's auc: 0.834731\n",
            "[350]\tvalid_0's binary_logloss: 0.424265\tvalid_0's auc: 0.834893\n",
            "[400]\tvalid_0's binary_logloss: 0.424127\tvalid_0's auc: 0.835013\n",
            "[450]\tvalid_0's binary_logloss: 0.424015\tvalid_0's auc: 0.835106\n",
            "[500]\tvalid_0's binary_logloss: 0.423757\tvalid_0's auc: 0.835335\n",
            "[550]\tvalid_0's binary_logloss: 0.423603\tvalid_0's auc: 0.835466\n",
            "Did not meet early stopping. Best iteration is:\n",
            "[547]\tvalid_0's binary_logloss: 0.423598\tvalid_0's auc: 0.835472\n"
          ],
          "name": "stdout"
        }
      ]
    },
    {
      "cell_type": "code",
      "metadata": {
        "id": "n_EPR3jX-AZY",
        "colab_type": "code",
        "colab": {}
      },
      "source": [
        "output = pd.DataFrame({'Patient_ID':test_data['Patient_ID'],\n",
        "                        'Health_Camp_ID':test_data['Health_Camp_ID'],\n",
        "                        'Outcome':preds})\n",
        "output.to_csv('my_submission.csv', index=False)"
      ],
      "execution_count": null,
      "outputs": []
    }
  ]
}